{
 "cells": [
  {
   "cell_type": "markdown",
   "metadata": {},
   "source": [
    "<img align=\"right\" width=\"250\" height=\"150\" src=\"https://lh3.googleusercontent.com/p/AF1QipPWZQfa087JiVjutpUTVEGRnh6W214Wjm439gKQ=w1080-h608-p-no-v0\">\n",
    "\n",
    "## **Proyecto:** Retención de usuarios de la Plataforma Digital\n",
    "\n",
    "#### El objetivo de este notebook es realizar el análisis EDA del archivo de `..\\Gestar_YYYYMM.csv` con el objeto de ver que datos incorporar en el archivo de `..\\Crosseling_ampliado_YYYYMM.csv`."
   ]
  },
  {
   "cell_type": "code",
   "execution_count": 8,
   "metadata": {},
   "outputs": [],
   "source": [
    "import pandas as pd\n",
    "import pandas_profiling\n",
    "import os\n",
    "\n",
    "try:\n",
    "    # Monto la unidad de drive porque los archivos son muy grandes\n",
    "    from google.colab import drive\n",
    "    drive.mount('/content/drive')\n",
    "    DIR = '/content/drive/MyDrive/Trayecto3-DataDriven/Data/'\n",
    "except:\n",
    "    # Sino lo consigo asumo que estoy trabajando local\n",
    "    DIR = os.path.abspath(r'..\\Data\\Export') + '\\\\'"
   ]
  },
  {
   "cell_type": "code",
   "execution_count": 9,
   "metadata": {},
   "outputs": [],
   "source": [
    "uc = [\n",
    "    'CASETYPEID',\n",
    "    'CASETYPE',\n",
    "    'CANORIGID',\n",
    "    'CANORIG',\n",
    "    'TYPE_CODSUCURSAL',\n",
    "    'STATEID',\n",
    "    'State',\n",
    "    'CREATEDDATE',\n",
    "    'CREATEDMONTH',\n",
    "    'ENDDATE',\n",
    "    'SING_TIPODOC',\n",
    "    'SING_NRODOC',\n",
    "    'TYPE_NROCTA',\n",
    "    'TYPE_NROTARJETA',\n",
    "    'NIVEL 1',\n",
    "    'NIVEL 2',\n",
    "    'NIVEL 3',\n",
    "    'TYPE_MARCATARJETA',\n",
    "    'TPOSOLUCION_CALCULADO',\n",
    "    'TYPE_IMPORTE_TOTAL_RECLAMADO',\n",
    "    'TYPE_IMPORTE_TOTAL_REINTEGRADO',\n",
    "    'Motivo_Baja_Producto',\n",
    "    'VIA',\n",
    "    'ACEPTA CONTACTO',\n",
    "    'TYPE MOTIVO GESTION BANCON',\n",
    "    'DIAS_DEMORA_DETALLE',\n",
    "    'CASETYPEPATH',\n",
    "    'STARTDATE',\n",
    "    'TYPE_TC_TIPOTARJETA',\n",
    "    'TYPE_TARJETA_NRO',\n",
    "    'TYPE_RUBRO_COMERCIO',\n",
    "    'type_importe_total_reclamado_dolares',\n",
    "    'TYPE_CONVENIO',\n",
    "    'TYPE_UBICACION',\n",
    "    'type_tipo_plataforma_bancon',\n",
    "    'type_motivo_gestion_bancon_empresas',\n",
    "    'type_motivo_consulta_bancon_empresas',\n",
    "    'type_motivo_consulta_bancon'\n",
    "]\n",
    "\n",
    "tc = dict(zip(uc, [str] * len(uc)))\n",
    "tc.update({'TYPE_IMPORTE_TOTAL_RECLAMADO': float, 'TYPE_IMPORTE_TOTAL_REINTEGRADO': float, 'DIAS_DEMORA_DETALLE': int, 'type_importe_total_reclamado_dolares': float})"
   ]
  },
  {
   "cell_type": "code",
   "execution_count": 10,
   "metadata": {},
   "outputs": [],
   "source": [
    "file = DIR + 'Gestar_202204.csv'\n",
    "df = pd.read_csv(file, index_col=False, usecols=uc, dtype=tc, parse_dates=['CREATEDDATE', 'ENDDATE', 'STARTDATE'])"
   ]
  },
  {
   "cell_type": "code",
   "execution_count": 7,
   "metadata": {},
   "outputs": [
    {
     "name": "stdout",
     "output_type": "stream",
     "text": [
      "<class 'pandas.core.frame.DataFrame'>\n",
      "RangeIndex: 132175 entries, 0 to 132174\n",
      "Data columns (total 38 columns):\n",
      " #   Column                                Non-Null Count   Dtype         \n",
      "---  ------                                --------------   -----         \n",
      " 0   CASETYPEID                            132175 non-null  object        \n",
      " 1   CASETYPE                              132175 non-null  object        \n",
      " 2   CANORIGID                             132175 non-null  object        \n",
      " 3   CANORIG                               132175 non-null  object        \n",
      " 4   TYPE_CODSUCURSAL                      101479 non-null  object        \n",
      " 5   STATEID                               132175 non-null  object        \n",
      " 6   State                                 132175 non-null  object        \n",
      " 7   CREATEDDATE                           132175 non-null  datetime64[ns]\n",
      " 8   CREATEDMONTH                          132175 non-null  object        \n",
      " 9   ENDDATE                               127418 non-null  datetime64[ns]\n",
      " 10  SING_TIPODOC                          130270 non-null  object        \n",
      " 11  SING_NRODOC                           132175 non-null  object        \n",
      " 12  TYPE_NROCTA                           3269 non-null    object        \n",
      " 13  TYPE_NROTARJETA                       6249 non-null    object        \n",
      " 14  NIVEL 1                               132175 non-null  object        \n",
      " 15  NIVEL 2                               132175 non-null  object        \n",
      " 16  NIVEL 3                               127744 non-null  object        \n",
      " 17  TYPE_MARCATARJETA                     39702 non-null   object        \n",
      " 18  TPOSOLUCION_CALCULADO                 127418 non-null  object        \n",
      " 19  TYPE_IMPORTE_TOTAL_RECLAMADO          7143 non-null    float64       \n",
      " 20  TYPE_IMPORTE_TOTAL_REINTEGRADO        5666 non-null    float64       \n",
      " 21  Motivo_Baja_Producto                  2852 non-null    object        \n",
      " 22  VIA                                   128014 non-null  object        \n",
      " 23  ACEPTA CONTACTO                       132175 non-null  object        \n",
      " 24  TYPE MOTIVO GESTION BANCON            3144 non-null    object        \n",
      " 25  DIAS_DEMORA_DETALLE                   132175 non-null  int32         \n",
      " 26  CASETYPEPATH                          132175 non-null  object        \n",
      " 27  STARTDATE                             124592 non-null  datetime64[ns]\n",
      " 28  TYPE_TC_TIPOTARJETA                   5137 non-null    object        \n",
      " 29  TYPE_TARJETA_NRO                      4351 non-null    object        \n",
      " 30  TYPE_RUBRO_COMERCIO                   4 non-null       object        \n",
      " 31  type_importe_total_reclamado_dolares  741 non-null     float64       \n",
      " 32  TYPE_CONVENIO                         1115 non-null    object        \n",
      " 33  TYPE_UBICACION                        0 non-null       object        \n",
      " 34  type_tipo_plataforma_bancon           11771 non-null   object        \n",
      " 35  type_motivo_gestion_bancon_empresas   15 non-null      object        \n",
      " 36  type_motivo_consulta_bancon_empresas  28 non-null      object        \n",
      " 37  type_motivo_consulta_bancon           8905 non-null    object        \n",
      "dtypes: datetime64[ns](3), float64(3), int32(1), object(31)\n",
      "memory usage: 37.8+ MB\n"
     ]
    }
   ],
   "source": [
    "df.info()"
   ]
  },
  {
   "cell_type": "code",
   "execution_count": 19,
   "metadata": {},
   "outputs": [
    {
     "data": {
      "application/vnd.jupyter.widget-view+json": {
       "model_id": "5645381f844b43cb872a64e8c262bd89",
       "version_major": 2,
       "version_minor": 0
      },
      "text/plain": [
       "Summarize dataset:   0%|          | 0/5 [00:00<?, ?it/s]"
      ]
     },
     "metadata": {},
     "output_type": "display_data"
    },
    {
     "data": {
      "application/vnd.jupyter.widget-view+json": {
       "model_id": "9cdf9baa05b443c7baffce2907db6194",
       "version_major": 2,
       "version_minor": 0
      },
      "text/plain": [
       "Generate report structure:   0%|          | 0/1 [00:00<?, ?it/s]"
      ]
     },
     "metadata": {},
     "output_type": "display_data"
    },
    {
     "data": {
      "application/vnd.jupyter.widget-view+json": {
       "model_id": "7ef0e3d736854ca3a831ad75c1a8028b",
       "version_major": 2,
       "version_minor": 0
      },
      "text/plain": [
       "Render HTML:   0%|          | 0/1 [00:00<?, ?it/s]"
      ]
     },
     "metadata": {},
     "output_type": "display_data"
    }
   ],
   "source": [
    "# Analizamos\n",
    "df.reset_index(drop=True, inplace=True)\n",
    "report = pandas_profiling.ProfileReport(df)\n",
    "report"
   ]
  },
  {
   "cell_type": "code",
   "execution_count": 5,
   "metadata": {},
   "outputs": [],
   "source": [
    "# Obtengo los reclamos de la BANCON y sumarizo la cantidad de ellos en el mes por usuario\n",
    "df = df[df['TYPE MOTIVO GESTION BANCON'].notnull()]\n",
    "df = df.groupby(by=['ID_USER']).size().to_frame().reset_index()\n",
    "df.columns = ['ID_USER', 'CANT_REC_PD']"
   ]
  },
  {
   "cell_type": "code",
   "execution_count": 7,
   "metadata": {},
   "outputs": [
    {
     "data": {
      "text/html": [
       "<div>\n",
       "<style scoped>\n",
       "    .dataframe tbody tr th:only-of-type {\n",
       "        vertical-align: middle;\n",
       "    }\n",
       "\n",
       "    .dataframe tbody tr th {\n",
       "        vertical-align: top;\n",
       "    }\n",
       "\n",
       "    .dataframe thead th {\n",
       "        text-align: right;\n",
       "    }\n",
       "</style>\n",
       "<table border=\"1\" class=\"dataframe\">\n",
       "  <thead>\n",
       "    <tr style=\"text-align: right;\">\n",
       "      <th></th>\n",
       "      <th>ID_USER</th>\n",
       "      <th>CANT_REC_PD</th>\n",
       "    </tr>\n",
       "  </thead>\n",
       "  <tbody>\n",
       "    <tr>\n",
       "      <th>2410</th>\n",
       "      <td>d11861fac1834babada2fe40b151b248</td>\n",
       "      <td>1</td>\n",
       "    </tr>\n",
       "    <tr>\n",
       "      <th>1709</th>\n",
       "      <td>90d826f12c22468baa84d30a76d61215</td>\n",
       "      <td>1</td>\n",
       "    </tr>\n",
       "    <tr>\n",
       "      <th>928</th>\n",
       "      <td>4fafc92325bd4d0d87bfa5d0e9d1515c</td>\n",
       "      <td>2</td>\n",
       "    </tr>\n",
       "    <tr>\n",
       "      <th>2007</th>\n",
       "      <td>ad47d8968e804333b74a5de1940b60ad</td>\n",
       "      <td>1</td>\n",
       "    </tr>\n",
       "    <tr>\n",
       "      <th>2138</th>\n",
       "      <td>b8ae6ac426d14853843169819e8345f7</td>\n",
       "      <td>1</td>\n",
       "    </tr>\n",
       "    <tr>\n",
       "      <th>1539</th>\n",
       "      <td>826ff63d351640dbb683792baec02410</td>\n",
       "      <td>1</td>\n",
       "    </tr>\n",
       "    <tr>\n",
       "      <th>804</th>\n",
       "      <td>4469902abb0d4d29ae7932b0dfb7dbf4</td>\n",
       "      <td>1</td>\n",
       "    </tr>\n",
       "    <tr>\n",
       "      <th>1817</th>\n",
       "      <td>9cf9d8f746f54a96998df3ca819b02f1</td>\n",
       "      <td>1</td>\n",
       "    </tr>\n",
       "    <tr>\n",
       "      <th>163</th>\n",
       "      <td>0f24934cb22d4722838475ea8634d11e</td>\n",
       "      <td>1</td>\n",
       "    </tr>\n",
       "    <tr>\n",
       "      <th>2630</th>\n",
       "      <td>e3a34049991b497a830913c34a44853d</td>\n",
       "      <td>1</td>\n",
       "    </tr>\n",
       "    <tr>\n",
       "      <th>1876</th>\n",
       "      <td>a24109746a934b5487c7caceba353721</td>\n",
       "      <td>1</td>\n",
       "    </tr>\n",
       "    <tr>\n",
       "      <th>1864</th>\n",
       "      <td>a189e4396e0547e2b154653fb9107918</td>\n",
       "      <td>1</td>\n",
       "    </tr>\n",
       "    <tr>\n",
       "      <th>1254</th>\n",
       "      <td>688ce880e7854cdcb4ac59776ce04098</td>\n",
       "      <td>2</td>\n",
       "    </tr>\n",
       "    <tr>\n",
       "      <th>1627</th>\n",
       "      <td>898d6723ffb7473a85cd1a06a9929c21</td>\n",
       "      <td>1</td>\n",
       "    </tr>\n",
       "    <tr>\n",
       "      <th>2513</th>\n",
       "      <td>d96264fcb2c74c2fad8b92e5ad1288a0</td>\n",
       "      <td>1</td>\n",
       "    </tr>\n",
       "    <tr>\n",
       "      <th>276</th>\n",
       "      <td>1852e4c2978a4cff87a72d40be2353ee</td>\n",
       "      <td>1</td>\n",
       "    </tr>\n",
       "    <tr>\n",
       "      <th>289</th>\n",
       "      <td>19e50cbc7e9a4ca69732ee22fe287361</td>\n",
       "      <td>2</td>\n",
       "    </tr>\n",
       "    <tr>\n",
       "      <th>2364</th>\n",
       "      <td>cdbc98f3f8334c22b69ec75db26ea2cb</td>\n",
       "      <td>1</td>\n",
       "    </tr>\n",
       "    <tr>\n",
       "      <th>2818</th>\n",
       "      <td>f4c3e51218364b139013275f79491546</td>\n",
       "      <td>1</td>\n",
       "    </tr>\n",
       "    <tr>\n",
       "      <th>1221</th>\n",
       "      <td>66c9c6eecf4f4428ad991a966308b1f9</td>\n",
       "      <td>1</td>\n",
       "    </tr>\n",
       "  </tbody>\n",
       "</table>\n",
       "</div>"
      ],
      "text/plain": [
       "                               ID_USER  CANT_REC_PD\n",
       "2410  d11861fac1834babada2fe40b151b248            1\n",
       "1709  90d826f12c22468baa84d30a76d61215            1\n",
       "928   4fafc92325bd4d0d87bfa5d0e9d1515c            2\n",
       "2007  ad47d8968e804333b74a5de1940b60ad            1\n",
       "2138  b8ae6ac426d14853843169819e8345f7            1\n",
       "1539  826ff63d351640dbb683792baec02410            1\n",
       "804   4469902abb0d4d29ae7932b0dfb7dbf4            1\n",
       "1817  9cf9d8f746f54a96998df3ca819b02f1            1\n",
       "163   0f24934cb22d4722838475ea8634d11e            1\n",
       "2630  e3a34049991b497a830913c34a44853d            1\n",
       "1876  a24109746a934b5487c7caceba353721            1\n",
       "1864  a189e4396e0547e2b154653fb9107918            1\n",
       "1254  688ce880e7854cdcb4ac59776ce04098            2\n",
       "1627  898d6723ffb7473a85cd1a06a9929c21            1\n",
       "2513  d96264fcb2c74c2fad8b92e5ad1288a0            1\n",
       "276   1852e4c2978a4cff87a72d40be2353ee            1\n",
       "289   19e50cbc7e9a4ca69732ee22fe287361            2\n",
       "2364  cdbc98f3f8334c22b69ec75db26ea2cb            1\n",
       "2818  f4c3e51218364b139013275f79491546            1\n",
       "1221  66c9c6eecf4f4428ad991a966308b1f9            1"
      ]
     },
     "execution_count": 7,
     "metadata": {},
     "output_type": "execute_result"
    }
   ],
   "source": [
    "df.sample(20)"
   ]
  },
  {
   "cell_type": "code",
   "execution_count": null,
   "metadata": {},
   "outputs": [],
   "source": []
  }
 ],
 "metadata": {
  "kernelspec": {
   "display_name": "Python 3.10.5 64-bit",
   "language": "python",
   "name": "python3"
  },
  "language_info": {
   "codemirror_mode": {
    "name": "ipython",
    "version": 3
   },
   "file_extension": ".py",
   "mimetype": "text/x-python",
   "name": "python",
   "nbconvert_exporter": "python",
   "pygments_lexer": "ipython3",
   "version": "3.10.5"
  },
  "orig_nbformat": 4,
  "vscode": {
   "interpreter": {
    "hash": "9a5f32d0676542e4e2bf7db8487c84e3169d994048782af8503f70e03a7f1e48"
   }
  }
 },
 "nbformat": 4,
 "nbformat_minor": 2
}
