{
 "cells": [
  {
   "cell_type": "markdown",
   "metadata": {},
   "source": [
    "<img align=\"right\" width=\"250\" height=\"150\" src=\"https://lh3.googleusercontent.com/p/AF1QipPWZQfa087JiVjutpUTVEGRnh6W214Wjm439gKQ=w1080-h608-p-no-v0\">\n",
    "\n",
    "## **Proyecto:** Retención de usuarios de la Plataforma Digital\n",
    "\n",
    "#### El objetivo de este notebook es realizar el análisis EDA del archivo de `..\\Gestar_YYYYMM.parquet` con el objeto de ver que datos incorporar en el archivo de `..\\Crosseling_ampliado_YYYYMM.parquet`."
   ]
  },
  {
   "cell_type": "code",
   "execution_count": null,
   "metadata": {},
   "outputs": [],
   "source": [
    "import pandas as pd\n",
    "import pandas_profiling\n",
    "import os\n",
    "\n",
    "try:\n",
    "    # Monto la unidad de drive porque los archivos son muy grandes\n",
    "    from google.colab import drive\n",
    "    drive.mount('/content/drive')\n",
    "    DIR = '/content/drive/MyDrive/Trayecto3-DataDriven/Data/'\n",
    "    # En GOOGLE COLAB hace falta instalar la última versión de pandas profiling\n",
    "    ! pip install --use-feature=2020-resolver https://github.com/pandas-profiling/pandas-profiling/archive/master.zip\n",
    "except:\n",
    "    # Sino lo consigo asumo que estoy trabajando local\n",
    "    DIR = os.path.abspath(r'..\\Data\\Export') + '\\\\'"
   ]
  },
  {
   "cell_type": "code",
   "execution_count": null,
   "metadata": {},
   "outputs": [],
   "source": [
    "file = DIR + 'Gestar_202204.parquet'\n",
    "df = pd.read_parquet(file)"
   ]
  },
  {
   "cell_type": "code",
   "execution_count": null,
   "metadata": {},
   "outputs": [],
   "source": [
    "df.info()"
   ]
  },
  {
   "cell_type": "code",
   "execution_count": null,
   "metadata": {},
   "outputs": [],
   "source": [
    "df.sample(10)"
   ]
  },
  {
   "cell_type": "code",
   "execution_count": null,
   "metadata": {},
   "outputs": [],
   "source": [
    "# Tomamos solo albunas variables porque son damasiadas para que la libreria las analize sin consumir toda la memoria\n",
    "cols_analize = [\n",
    "    'CASETYPEID',\n",
    "    'CANORIGID',\n",
    "    'TYPE_CODSUCURSAL',\n",
    "    'STATEID',\n",
    "    'CREATEDDATE',\n",
    "    'ENDDATE',\n",
    "    'NIVEL 1',\n",
    "    'NIVEL 2',\n",
    "    'NIVEL 3',\n",
    "    'TPOSOLUCION_CALCULADO',\n",
    "    'TYPE_IMPORTE_TOTAL_RECLAMADO',\n",
    "    'TYPE_IMPORTE_TOTAL_REINTEGRADO',\n",
    "    'Motivo_Baja_Producto',\n",
    "    'ACEPTA CONTACTO',\n",
    "    'TYPE MOTIVO GESTION BANCON',\n",
    "    'DIAS_DEMORA_DETALLE',\n",
    "    'STARTDATE',\n",
    "    'TYPE_TC_TIPOTARJETA',\n",
    "    'TYPE_RUBRO_COMERCIO',\n",
    "    'type_importe_total_reclamado_dolares',\n",
    "    'TYPE_CONVENIO',\n",
    "    'TYPE_UBICACION',\n",
    "    'type_tipo_plataforma_bancon',\n",
    "    'type_motivo_gestion_bancon_empresas',\n",
    "    'type_motivo_consulta_bancon_empresas',\n",
    "    'type_motivo_consulta_bancon'\n",
    "]\n",
    "\n",
    "df_analize = df[cols_analize]"
   ]
  },
  {
   "cell_type": "code",
   "execution_count": null,
   "metadata": {},
   "outputs": [],
   "source": [
    "df_analize"
   ]
  },
  {
   "cell_type": "code",
   "execution_count": null,
   "metadata": {},
   "outputs": [],
   "source": [
    "# Analizamos\n",
    "df_analize.reset_index(drop=True, inplace=True)\n",
    "report = pandas_profiling.ProfileReport(df_analize)\n",
    "report"
   ]
  },
  {
   "cell_type": "code",
   "execution_count": null,
   "metadata": {},
   "outputs": [],
   "source": [
    "# Obtengo los reclamos de la BANCON y sumarizo la cantidad de ellos en el mes por usuario\n",
    "df = df[df['TYPE MOTIVO GESTION BANCON'].notnull()]\n",
    "df = df.groupby(by=['ID_USER']).size().to_frame().reset_index()\n",
    "df.columns = ['ID_USER', 'CANT_REC_PD']\n",
    "df"
   ]
  }
 ],
 "metadata": {
  "kernelspec": {
   "display_name": "Python 3.10.5 64-bit",
   "language": "python",
   "name": "python3"
  },
  "language_info": {
   "codemirror_mode": {
    "name": "ipython",
    "version": 3
   },
   "file_extension": ".py",
   "mimetype": "text/x-python",
   "name": "python",
   "nbconvert_exporter": "python",
   "pygments_lexer": "ipython3",
   "version": "3.10.5"
  },
  "orig_nbformat": 4,
  "vscode": {
   "interpreter": {
    "hash": "9a5f32d0676542e4e2bf7db8487c84e3169d994048782af8503f70e03a7f1e48"
   }
  }
 },
 "nbformat": 4,
 "nbformat_minor": 2
}
