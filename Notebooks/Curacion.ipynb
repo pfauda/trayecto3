{
 "cells": [
  {
   "cell_type": "markdown",
   "metadata": {},
   "source": [
    "<img align=\"right\" width=\"250\" height=\"150\" src=\"https://lh3.googleusercontent.com/p/AF1QipPWZQfa087JiVjutpUTVEGRnh6W214Wjm439gKQ=w1080-h608-p-no-v0\">\n",
    "\n",
    "# **Proyecto:** Retención de usuarios de Plataforma Digital\n",
    "\n",
    "### Proceso de extracción, normalización y anonimización de datos"
   ]
  },
  {
   "cell_type": "markdown",
   "metadata": {},
   "source": [
    "## **Fuentes de datos**\n",
    "\n",
    "- `\\\\srvapwb12\\SCG_INFORMACION_EXTERNA$\\USUARIOS\\GCIA BANCA DIGITAL` (Ana Belén Juncos)  \n",
    "    - Usuarios de platadorma digital `ORA_Users.txt`\n",
    "    - Crosseling de productos de Febrero a Abril `CLIPROD_CROSSELLING_YYYYMM.txt`\n",
    "    - Transacciones monetarias y no monetares de Febrero a Abril: `Detalle_Trx_Monetarias_YYYYMM.txt` / `NoMonetarias_YYYYMM.txt`  \n",
    "- `\\\\srvapwb12\\SCG_INFORMACION_EXTERNA$\\QV\\USR\\OUTPUT\\Gestar` (Marcela Terreno)  \n",
    "    - Transacciones mensuales de GESTAR - `Transacciones_Gestar_YYYYMM_NVO.txt`\n",
    "- `\\\\srvapwb12\\SCG_INFORMACION_EXTERNA$\\QV\\USR\\OUTPUT\\TURNERO` (Ana Laura Varas)  \n",
    "    - Turnero - `748_YYYYMMDD_HHMM_Turnero_F.TXT`"
   ]
  },
  {
   "cell_type": "markdown",
   "metadata": {},
   "source": [
    "## Declaraciones de librerías y declaraciones globales"
   ]
  },
  {
   "cell_type": "code",
   "execution_count": 1,
   "metadata": {},
   "outputs": [],
   "source": [
    "# Importo las librerias necesarias\n",
    "import pandas as pd\n",
    "import datetime as dt\n",
    "import numpy as np\n",
    "import os"
   ]
  },
  {
   "cell_type": "code",
   "execution_count": 2,
   "metadata": {},
   "outputs": [],
   "source": [
    "# Funciones globales de uso general\n",
    "\n",
    "def dateparse_1(x):\n",
    "    try:\n",
    "        d = dt.datetime.strptime(x, '%d/%m/%Y')\n",
    "    except:\n",
    "        d = dt.datetime(1900, 1, 1)\n",
    "    return d\n",
    "\n",
    "def dateparse_2(x):\n",
    "    try:\n",
    "        d = dt.datetime.strptime(x, '%Y%m%d')\n",
    "    except:\n",
    "        d = dt.datetime(1900, 1, 1)\n",
    "    return d\n",
    "\n",
    "dateparse_dd_mm_yyyy = lambda x: dateparse_1(x)\n",
    "dateparse_yyyymmdd = lambda x: dateparse_2(x)"
   ]
  },
  {
   "cell_type": "code",
   "execution_count": 3,
   "metadata": {},
   "outputs": [],
   "source": [
    "# Variables Globales\n",
    "DIR = os.path.abspath(r'..\\Data')\n",
    "PERIODOS = [\"202202\", \"202203\", \"202204\"]"
   ]
  },
  {
   "cell_type": "markdown",
   "metadata": {},
   "source": [
    "## Depuración y generación del archivo de Usuarios"
   ]
  },
  {
   "cell_type": "markdown",
   "metadata": {},
   "source": [
    "### Estructura del archivo"
   ]
  },
  {
   "cell_type": "markdown",
   "metadata": {},
   "source": [
    "|Campo    |Descripción   |\n",
    "|---    |---   |\n",
    "|ID_USER    |Id de usuario (Hash de 32 bytes)   |\n",
    "|EMAIL  |Correo electronico   |\n",
    "|FIRST_NAME |Nombre   |\n",
    "|LAST_NAME  |Apellido   |\n",
    "|MOBILE_NUMBER  |Teléfono celular   |\n",
    "|DOCUMENTO  |Documento (CUIT/CUIL)   |\n",
    "|FechaCreacion  |Fecha de OnBoarding   |\n",
    "|LAST_LOGIN |Último logín en la plataforma digital BANCON   |\n",
    "|SegFactor  |Segundo factor de autenticación   |"
   ]
  },
  {
   "cell_type": "markdown",
   "metadata": {},
   "source": [
    "### Proceso"
   ]
  },
  {
   "cell_type": "code",
   "execution_count": 4,
   "metadata": {},
   "outputs": [
    {
     "data": {
      "text/plain": [
       "(917541, 5)"
      ]
     },
     "execution_count": 4,
     "metadata": {},
     "output_type": "execute_result"
    }
   ],
   "source": [
    "# Lectura de archivo\n",
    "file = DIR + r'\\Usuarios\\ORA_Users.txt'\n",
    "df_us = pd.read_csv(file, \n",
    "    delimiter=';',\n",
    "    encoding='latin-1',\n",
    "    dtype={'DOCUMENTO': str, 'LAST_LOGIN': str, 'SegFactor': str},\n",
    "    parse_dates=['FechaCreacion', 'LAST_LOGIN'],\n",
    "    date_parser=dateparse_dd_mm_yyyy,\n",
    "    usecols=['ID_USER', 'DOCUMENTO', 'FechaCreacion', 'LAST_LOGIN', 'SegFactor'])\n",
    "df_us.shape"
   ]
  },
  {
   "cell_type": "code",
   "execution_count": 5,
   "metadata": {},
   "outputs": [],
   "source": [
    "# Elimino los registros con fecha de último logín 1900-01-01\n",
    "df_us = df_us[df_us['LAST_LOGIN'] != dt.datetime(1900, 1, 1)]"
   ]
  },
  {
   "cell_type": "code",
   "execution_count": 6,
   "metadata": {},
   "outputs": [
    {
     "data": {
      "text/html": [
       "<div>\n",
       "<style scoped>\n",
       "    .dataframe tbody tr th:only-of-type {\n",
       "        vertical-align: middle;\n",
       "    }\n",
       "\n",
       "    .dataframe tbody tr th {\n",
       "        vertical-align: top;\n",
       "    }\n",
       "\n",
       "    .dataframe thead th {\n",
       "        text-align: right;\n",
       "    }\n",
       "</style>\n",
       "<table border=\"1\" class=\"dataframe\">\n",
       "  <thead>\n",
       "    <tr style=\"text-align: right;\">\n",
       "      <th></th>\n",
       "      <th>ID_USER</th>\n",
       "      <th>DOCUMENTO</th>\n",
       "      <th>FechaCreacion</th>\n",
       "      <th>LAST_LOGIN</th>\n",
       "      <th>SegFactor</th>\n",
       "    </tr>\n",
       "  </thead>\n",
       "  <tbody>\n",
       "    <tr>\n",
       "      <th>484554</th>\n",
       "      <td>ec0258dd773d4e518c261ca4a1291a0e</td>\n",
       "      <td>20043106261</td>\n",
       "      <td>2020-12-20</td>\n",
       "      <td>2021-09-10</td>\n",
       "      <td>SMS</td>\n",
       "    </tr>\n",
       "    <tr>\n",
       "      <th>584347</th>\n",
       "      <td>a40b6b59c911450b892700b8a7549b0a</td>\n",
       "      <td>20043106261</td>\n",
       "      <td>2021-11-09</td>\n",
       "      <td>2022-06-03</td>\n",
       "      <td>Softoken</td>\n",
       "    </tr>\n",
       "    <tr>\n",
       "      <th>128921</th>\n",
       "      <td>ca859587dc2f4368a0a91e2e583d34be</td>\n",
       "      <td>20046189958</td>\n",
       "      <td>2019-09-09</td>\n",
       "      <td>2019-09-12</td>\n",
       "      <td>SMS</td>\n",
       "    </tr>\n",
       "    <tr>\n",
       "      <th>114931</th>\n",
       "      <td>a8e526c2f12d40dcaf6b733df6f0fbf3</td>\n",
       "      <td>20046189958</td>\n",
       "      <td>2019-08-21</td>\n",
       "      <td>2022-05-31</td>\n",
       "      <td>SMS</td>\n",
       "    </tr>\n",
       "    <tr>\n",
       "      <th>479361</th>\n",
       "      <td>79a200d4ad454a63a25c61cc492ab9b7</td>\n",
       "      <td>20049293209</td>\n",
       "      <td>2021-03-02</td>\n",
       "      <td>2022-06-03</td>\n",
       "      <td>Softoken</td>\n",
       "    </tr>\n",
       "    <tr>\n",
       "      <th>...</th>\n",
       "      <td>...</td>\n",
       "      <td>...</td>\n",
       "      <td>...</td>\n",
       "      <td>...</td>\n",
       "      <td>...</td>\n",
       "    </tr>\n",
       "    <tr>\n",
       "      <th>898028</th>\n",
       "      <td>bbfdf324ce194746968c10eb15795361</td>\n",
       "      <td>27960094676</td>\n",
       "      <td>2020-02-13</td>\n",
       "      <td>2021-03-28</td>\n",
       "      <td>SMS</td>\n",
       "    </tr>\n",
       "    <tr>\n",
       "      <th>235572</th>\n",
       "      <td>a5c980c815654b3fadb0e58ec0458840</td>\n",
       "      <td>27960159832</td>\n",
       "      <td>2020-02-28</td>\n",
       "      <td>2021-03-18</td>\n",
       "      <td>SMS</td>\n",
       "    </tr>\n",
       "    <tr>\n",
       "      <th>814383</th>\n",
       "      <td>a841dbca361a4a4f9e7622c3171ecc46</td>\n",
       "      <td>27960159832</td>\n",
       "      <td>2021-04-06</td>\n",
       "      <td>2022-06-02</td>\n",
       "      <td>Softoken</td>\n",
       "    </tr>\n",
       "    <tr>\n",
       "      <th>537490</th>\n",
       "      <td>c9d18053509a4af1bcd52e6df537edc7</td>\n",
       "      <td>30710898967</td>\n",
       "      <td>2021-08-11</td>\n",
       "      <td>2021-08-12</td>\n",
       "      <td>No tiene segundo factor</td>\n",
       "    </tr>\n",
       "    <tr>\n",
       "      <th>542739</th>\n",
       "      <td>b8fda53ffd93417bada4e9d8449b6751</td>\n",
       "      <td>30710898967</td>\n",
       "      <td>2021-08-17</td>\n",
       "      <td>2021-08-17</td>\n",
       "      <td>No tiene segundo factor</td>\n",
       "    </tr>\n",
       "  </tbody>\n",
       "</table>\n",
       "<p>12257 rows × 5 columns</p>\n",
       "</div>"
      ],
      "text/plain": [
       "                                 ID_USER    DOCUMENTO FechaCreacion  \\\n",
       "484554  ec0258dd773d4e518c261ca4a1291a0e  20043106261    2020-12-20   \n",
       "584347  a40b6b59c911450b892700b8a7549b0a  20043106261    2021-11-09   \n",
       "128921  ca859587dc2f4368a0a91e2e583d34be  20046189958    2019-09-09   \n",
       "114931  a8e526c2f12d40dcaf6b733df6f0fbf3  20046189958    2019-08-21   \n",
       "479361  79a200d4ad454a63a25c61cc492ab9b7  20049293209    2021-03-02   \n",
       "...                                  ...          ...           ...   \n",
       "898028  bbfdf324ce194746968c10eb15795361  27960094676    2020-02-13   \n",
       "235572  a5c980c815654b3fadb0e58ec0458840  27960159832    2020-02-28   \n",
       "814383  a841dbca361a4a4f9e7622c3171ecc46  27960159832    2021-04-06   \n",
       "537490  c9d18053509a4af1bcd52e6df537edc7  30710898967    2021-08-11   \n",
       "542739  b8fda53ffd93417bada4e9d8449b6751  30710898967    2021-08-17   \n",
       "\n",
       "       LAST_LOGIN                SegFactor  \n",
       "484554 2021-09-10                      SMS  \n",
       "584347 2022-06-03                 Softoken  \n",
       "128921 2019-09-12                      SMS  \n",
       "114931 2022-05-31                      SMS  \n",
       "479361 2022-06-03                 Softoken  \n",
       "...           ...                      ...  \n",
       "898028 2021-03-28                      SMS  \n",
       "235572 2021-03-18                      SMS  \n",
       "814383 2022-06-02                 Softoken  \n",
       "537490 2021-08-12  No tiene segundo factor  \n",
       "542739 2021-08-17  No tiene segundo factor  \n",
       "\n",
       "[12257 rows x 5 columns]"
      ]
     },
     "execution_count": 6,
     "metadata": {},
     "output_type": "execute_result"
    }
   ],
   "source": [
    "# Averiguar si hay o no CUIT/CUILs duplicados\n",
    "ids = df_us['DOCUMENTO']\n",
    "df_us[ids.isin(ids[ids.duplicated()])].sort_values('DOCUMENTO')"
   ]
  },
  {
   "cell_type": "code",
   "execution_count": 7,
   "metadata": {},
   "outputs": [
    {
     "data": {
      "text/plain": [
       "(903291, 5)"
      ]
     },
     "execution_count": 7,
     "metadata": {},
     "output_type": "execute_result"
    }
   ],
   "source": [
    "# Hay duplicados. Me quedo con el registro con la fecha de último login mas reciente\n",
    "df_us = df_us.sort_values('LAST_LOGIN').groupby('DOCUMENTO').tail(1)\n",
    "df_us.shape"
   ]
  },
  {
   "cell_type": "code",
   "execution_count": 8,
   "metadata": {},
   "outputs": [],
   "source": [
    "# Grabo\n",
    "file = DIR + r'\\Export\\Usuarios.csv'\n",
    "df_us[['ID_USER', 'FechaCreacion', 'LAST_LOGIN', 'SegFactor']].to_csv(file, index=False)"
   ]
  },
  {
   "cell_type": "code",
   "execution_count": 9,
   "metadata": {},
   "outputs": [],
   "source": [
    "# Borro lo que ya no es necesario para econnomizar memoria\n",
    "df_us.drop(['FechaCreacion', 'LAST_LOGIN', 'SegFactor'], axis=1, inplace=True)"
   ]
  },
  {
   "cell_type": "markdown",
   "metadata": {},
   "source": [
    "## Depuración y generación del archivo de Crosseling"
   ]
  },
  {
   "cell_type": "markdown",
   "metadata": {},
   "source": [
    "### Estructura del archivo"
   ]
  },
  {
   "cell_type": "markdown",
   "metadata": {},
   "source": [
    "|Campo    |Descripción   |  \n",
    "|---    |---    |\n",
    "|PERIODO    |Período   |  \n",
    "|CUITCLIE   |CUIT del cliente    | \n",
    "|RELACION   |Relación (TIT=Titular de cuenta/ADI=Adicional)| \n",
    "|TIPOIMPN   |Tipo de impuesto - **Ver de Excluir en todo caso tomar los consumidores finales**   |  \n",
    "|NATUJURI   |Naturaleza Jurídica (Código=27) - Excluir   |  \n",
    "|SUCURSAL   |Sucursal   |  \n",
    "|BCRASECT   |Clasificación de Sector según BCRA (**PRIV**)  | \n",
    "|BCRASEGO   |Sector de Gobierno (Código=0)  |  \n",
    "|GRUPO_CLIENTE  |Grupo de Cliente   | \n",
    "|GRUPOGENERAL   |Solo tomar **\"Individuo sin actividad comercial\"**   | \n",
    "|SUBGRUPO   |Subgrupo - **Incluir**   | \n",
    "|SEGMENTO_SUELDOS   |Agrupar los JUBILADOS y SUELDOS ADM*   | \n",
    "|SEGMENTO_BANCAS    |**No va - Excluir variable**  | \n",
    "|FUM    |Fecha de último movimiento   | \n",
    "|ES_CLIENTE |**Excluir columna - Siempre es 1** (1=Si/0=No)   |  \n",
    "|ES_CAPITA  |**Si cobra sueldo en el banco - Convenio de haberes - EPEC** (1=Si/0=No)   |  \n",
    "|CL_ACTIVO_FUM  |Identifica si tuvo actividad en los últimos 6 meses (1=Si/0=No)   |  \n",
    "|TIENE_I_CA_D   |Tiene caja de ahorros en dolar (1=Si/0=No)   |  \n",
    "|TIENE_I_CA_P   |Tiene caja de ahorros en pesos (1=Si/0=No)   |  \n",
    "|TIENE_I_CBESA  |Tiene tarjeta cordobesa (1=Si/0=No)   |  \n",
    "|TIENE_I_CC |Tiene cuenta corriente (1=Si/0=No)   |  \n",
    "|TIENE_I_CCAD   |Tiene cuenta adelanto (1=Si/0=No)   |  \n",
    "|TIENE_I_CS |Tiene cuenta social (1=Si/0=No)   |  \n",
    "|TIENE_I_FCI    |Tiene Fondo Común de inversión (1=Si/0=No)   |  \n",
    "|TIENE_I_PF |Tiene Plazo Fijo (1=Si/0=No)   |  \n",
    "|TIENE_I_PR_HIP |Tiene préstamo hipotecario (1=Si/0=No)   |  \n",
    "|TIENE_I_PR_PERS    |Tiene préstamo personal (1=Si/0=No)   |  \n",
    "|TIENE_I_PREP   |Tiene tarjeta prepaga **Validar** (1=Si/0=No)   |  \n",
    "|TIENE_I_SE_PATR    |Tiene seguro patrimonial (Auto/Hogar) (1=Si/0=No)   |  \n",
    "|TIENE_I_SEG_VIDA   |Tiene seguro de vida (1=Si/0=No)   |  \n",
    "|TIENE_I_VISA   |Tiene tarjeta VISA (1=Si/0=No)   |  \n",
    "|TIENE_I_TJ_SOC |Tiene tarjeta Social (1=Si/0=No)   |  \n",
    "|TIENE_E_AC_CC  |Tiene caja de ahorros y cuenta corriente? (1=Si/0=No) ** Excluir - Es solo para empresas**   |\n",
    "|TIENE_E_CC |Tiene cuenta corriente? (1=Si/0=No) ** Excluir - Es solo para empresas**   |\n",
    "|TIENE_E_CONV_AH    |(1=Si/0=No) ** Excluir - Es solo para empresas**   |\n",
    "|TIENE_E_CONV_COMALI    |(1=Si/0=No) ** Excluir - Es solo para empresas**   |\n",
    "|TIENE_E_CONV_PP    |(1=Si/0=No) ** Excluir - Es solo para empresas**   |\n",
    "|TIENE_E_CONV_REC   |(1=Si/0=No) ** Excluir - Es solo para empresas**   |\n",
    "|TIENE_E_CX |? (1=Si/0=No) ** Excluir - Es solo para empresas**   |\n",
    "|TIENE_E_FACT   |(1=Si/0=No) ** Excluir - Es solo para empresas**   |\n",
    "|TIENE_E_FCI    |Tiene Fondo Común de inversión (1=Si/0=No) ** Excluir - Es solo para empresas**   |\n",
    "|TIENE_E_IB |(1=Si/0=No) ** Excluir - Es solo para empresas**   |\n",
    "|TIENE_E_LIQ_COM    |(1=Si/0=No) ** Excluir - Es solo para empresas**   |\n",
    "|TIENE_E_PF |Tiene Plazo Fijo? (1=Si/0=No) ** Excluir - Es solo para empresas**   |\n",
    "|TIENE_E_PR_CO  |(1=Si/0=No) ** Excluir - Es solo para empresas**   |\n",
    "|TIENE_E_PR_DOC |(1=Si/0=No) ** Excluir - Es solo para empresas**   |\n",
    "|TIENE_E_SE |? (1=Si/0=No) ** Excluir - Es solo para empresas**   |\n",
    "|TIENE_E_TC_AGRO    |Tiene tarjeta Agro (1=Si/0=No) ** Excluir - Es solo para empresas**   |\n",
    "|TIENE_E_TC_CORPO   |Tiene tarjeta corporativa (1=Si/0=No) ** Excluir - Es solo para empresas**   |\n",
    "|TIENE_E_TC_FLOTA   |Tiene Tarjeta Flota (1=Si/0=No) ** Excluir - Es solo para empresas**   |\n",
    "|SALDO_COMPUTO_SIST_2   |Saldo Sistema Plazo Fijo   |\n",
    "|SALDO_COMPUTO_SIST_CC_MB   |Saldo Cuenta Corriente Mundo BANCOR   |  \n",
    "|SALDO_COMPUTO_SIST_CA_P    |Saldo Caja de ahorros Pesos   |\n",
    "|SALDO_COMPUTO_SIST_CC_P    |Saldo Cuenta Corriente Pesos  |  \n",
    "|SALDO_COMPUTO_SIST_FCI |Saldo en Fondos Comunes de Inversión   |\n",
    "|CROSS_EMPR |Cantidad de productos en Empresas - **Excluir**   |  \n",
    "|CROSS_IND  |Cantidad de productos en Individuos   |"
   ]
  },
  {
   "cell_type": "markdown",
   "metadata": {},
   "source": [
    "### Proceso"
   ]
  },
  {
   "cell_type": "code",
   "execution_count": 11,
   "metadata": {},
   "outputs": [],
   "source": [
    "def process_file_cs(file_input: str, file_output: str):\n",
    "\n",
    "    uc = [\n",
    "        'CUITCLIE',\n",
    "        'RELACION',\n",
    "        'TIPOIMPN',\n",
    "        'NATUJURI',\n",
    "        'SUCURSAL',\n",
    "        'BCRASECT',\n",
    "        'BCRASEGO',\n",
    "        'GRUPO_CLIENTE',\n",
    "        'GRUPOGENERAL',\n",
    "        'SUBGRUPO',\n",
    "        'SEGMENTO_SUELDOS',\n",
    "        'FUM',\n",
    "        'ES_CAPITA',\n",
    "        'CL_ACTIVO_FUM',\n",
    "        'TIENE_I_CA_D',\n",
    "        'TIENE_I_CA_P',\n",
    "        'TIENE_I_CBESA',\n",
    "        'TIENE_I_CC',\n",
    "        'TIENE_I_CCAD',\n",
    "        'TIENE_I_CS',\n",
    "        'TIENE_I_FCI',\n",
    "        'TIENE_I_PF',\n",
    "        'TIENE_I_PR_HIP',\n",
    "        'TIENE_I_PR_PERS',\n",
    "        'TIENE_I_PREP',\n",
    "        'TIENE_I_SE_PATR',\n",
    "        'TIENE_I_SEG_VIDA',\n",
    "        'TIENE_I_VISA',\n",
    "        'TIENE_I_TJ_SOC',\n",
    "        'SALDO_COMPUTO_SIST_2',\n",
    "        'SALDO_COMPUTO_SIST_CC_MB',\n",
    "        'SALDO_COMPUTO_SIST_CA_P',\n",
    "        'SALDO_COMPUTO_SIST_CC_P',\n",
    "        'SALDO_COMPUTO_SIST_FCI',\n",
    "        'CROSS_IND'\n",
    "    ]\n",
    "\n",
    "    tc = {\n",
    "        'CUITCLIE': str,\n",
    "        'RELACION': str,\n",
    "        'TIPOIMPN': str,\n",
    "        'NATUJURI': str,\n",
    "        'SUCURSAL': str,\n",
    "        'BCRASECT': str,\n",
    "        'BCRASEGO': str,\n",
    "        'GRUPO_CLIENTE': str,\n",
    "        'GRUPOGENERAL': str,\n",
    "        'SUBGRUPO': str,\n",
    "        'SEGMENTO_SUELDOS': str,\n",
    "        'FUM': str,\n",
    "        'SALDO_COMPUTO_SIST_2': float,\n",
    "        'SALDO_COMPUTO_SIST_CC_MB': float,\n",
    "        'SALDO_COMPUTO_SIST_CA_P': float,\n",
    "        'SALDO_COMPUTO_SIST_CC_P': float,\n",
    "        'SALDO_COMPUTO_SIST_FCI': float,\n",
    "    }\n",
    "\n",
    "    # Lectura de archivo\n",
    "    df_cs = pd.read_csv(file_input, \n",
    "        delimiter='|',\n",
    "        encoding='latin-1',\n",
    "        dtype=tc,\n",
    "        parse_dates=['FUM'],\n",
    "        date_parser=dateparse_yyyymmdd,\n",
    "        decimal=\",\",\n",
    "        usecols=uc)\n",
    "\n",
    "    # Anonimizo la identificación del usuario tomando el hash de la tabla de usuarios\n",
    "    df_cs = pd.merge(df_us, df_cs, how='inner', left_on='DOCUMENTO', right_on='CUITCLIE')\n",
    "    df_cs.drop(['DOCUMENTO', 'CUITCLIE'], axis=1, inplace=True)\n",
    "\n",
    "    # Reemplazo los valores SI/NO y la convierto en una variable dicotómica\n",
    "    df_cs['CL_ACTIVO_FUM'].replace({'SI': 1, 'NO': 0}, inplace=True)\n",
    "\n",
    "    # Grabo\n",
    "    df_cs.to_csv(file_output, index=False)\n",
    "\n",
    "    print(file_output, 'Filas:', len(df_cs.index)) "
   ]
  },
  {
   "cell_type": "code",
   "execution_count": 13,
   "metadata": {},
   "outputs": [
    {
     "name": "stdout",
     "output_type": "stream",
     "text": [
      "c:\\Users\\e21719832\\Documents\\Python\\trayecto3\\Data\\Export\\Crosseling_202202.csv Filas: 876823\n",
      "c:\\Users\\e21719832\\Documents\\Python\\trayecto3\\Data\\Export\\Crosseling_202203.csv Filas: 880084\n",
      "c:\\Users\\e21719832\\Documents\\Python\\trayecto3\\Data\\Export\\Crosseling_202204.csv Filas: 885787\n"
     ]
    }
   ],
   "source": [
    "# Proceso todos los archivos de crosseling\n",
    "for periodo in PERIODOS:\n",
    "    process_file_cs(\n",
    "        DIR + r'\\Crosselling\\CLIPROD_CROSSELLING_{}.txt'.format(periodo),\n",
    "        DIR + r'\\Export\\Crosseling_{}.csv'.format(periodo))"
   ]
  },
  {
   "cell_type": "markdown",
   "metadata": {},
   "source": [
    "## Depuración y generación del archivo de Gestión de Tickets"
   ]
  },
  {
   "cell_type": "markdown",
   "metadata": {},
   "source": [
    "### Estructura del archivo"
   ]
  },
  {
   "cell_type": "markdown",
   "metadata": {},
   "source": [
    "|Campo    |Descripción   |\n",
    "|---    |---   |\n",
    "|Periodo    |Perído   |\n",
    "|ID |Id Gestar   |\n",
    "|CASETYPEID |Id de tipo caso   |\n",
    "|CASETYPE   |Descripción de tipo de caso   |\n",
    "|CANORIGID  |Id de canal originante   |\n",
    "|CANORIG    |Descripción de canal originante   |\n",
    "|TYPE_CODSUCURSAL   |Sucursal   |\n",
    "|STATEID    |Id de estado   |\n",
    "|State  |Descripción de estado   |\n",
    "|CREATEDDATE    |Fecha de creación del caso YYYYMMDD   |\n",
    "|CREATEDMONTH   |**Excluir** Mes de creación del caso   |\n",
    "|ENDDATE    |Fecha de cierre del caso   |\n",
    "|SING_TIPODOC   |Tipo de documento   |\n",
    "|SING_NRODOC    |Número de documento **(Ojo! A veces cargan acá el CUIT/CUIL y dejan el campo CUIT vacío)**  |\n",
    "|CUIT   |CUIT   |\n",
    "|CLIENTE    |**Excluir** Nombre del cliente   |\n",
    "|TYPE_NROCTA    |Tipo de cuenta   |\n",
    "|TYPE_NROTARJETA    |Número de cuenta   |\n",
    "|NIVEL 1    |Clasificación del caso Nivel 1   |\n",
    "|NIVEL 2    |Clasificación del caso Nivel 2   |\n",
    "|NIVEL 3    |Clasificación del caso Nivel 3   |\n",
    "|SOLVER |**Excluir** Nombre del Resolutor   |\n",
    "|TYPE_MARCATARJETA  |Tipo de marca de tarjeta   |\n",
    "|TPOSOLUCION_CALCULADO  |Tipo de solución   |\n",
    "|TYPE_IMPORTE_TOTAL_RECLAMADO   |Importe total reclamado   |\n",
    "|TYPE_IMPORTE_TOTAL_REINTEGRADO |Importe total reintegrado   |\n",
    "|Motivo_Baja_Producto   |Motivo de baja del producto   |\n",
    "|VIA    |**Via?**  |\n",
    "|CREADO POR |**Excluir** Nombre de quien cargó el caso   |\n",
    "|ID CREADOR |**Excluir** Id del creador del caso   |\n",
    "|ACEPTA CONTACTO    |Acepta contacto SI/NO   |\n",
    "|EMAIL  |**Excluir** Correo electrónico   |\n",
    "|TYPE MOTIVO GESTION BANCON |**Motivo de gestión BANCON**   |\n",
    "|DIAS_DEMORA_DETALLE    |Detalle días de demora   |\n",
    "|CASETYPEPATH   |**Ruta de tipo de caso?**   |\n",
    "|GRUPORESPONSABLE   |**Excluir** Grupo responsable   |\n",
    "|STARTDATE  |**Fecha y hora de carga del caso?**   |\n",
    "|CUSTOMERID |**Excluir** Id de cliente   |\n",
    "|SING_FECHANACIMIENTO   |**SING?** **Excluir** Fecha de nacimiento   |\n",
    "|SING_SEXO  |**SING?** **Excluir** Sexo   |\n",
    "|SING_PROVINCIA |**SING?** **Excluir** Provincia   |\n",
    "|SING_BARRIO    |**SING?** **Excluir** Barrio   |\n",
    "|CUSTWORKCITY   |**Excluir** Ciudad laboural del cliente   |\n",
    "|TYPE_SUCURSAL  |**Excluir** Sucursal   |\n",
    "|GRUPORESPONSABLEID |**Excluir** Id de grupo resolutor   |\n",
    "|TYPE_TC_TIPOTARJETA    |**TC** Tipo de tarjeta   |\n",
    "|TYPE_TARJETA_NRO   |Número de tarjeta   |\n",
    "|TYPE_RUBRO_COMERCIO    |Rubro del comercio   |\n",
    "|type_importe_total_reclamado_dolares   |Importe total reclamado en dólares   |\n",
    "|TYPE_CONVENIO  |Convenio   |\n",
    "|TYPE_UBICACION |Ubicación   |\n",
    "|type_tipo_plataforma_bancon    |Tipo de plataforma BANCON   |\n",
    "|type_motivo_gestion_bancon_empresas    |Motivo de gestión BANCON empresas   |\n",
    "|type_motivo_consulta_bancon_empresas   |Motivo consulta BANCON empresas   |\n",
    "|type_motivo_consulta_bancon    |Motivo consulta BANCON   |\n"
   ]
  },
  {
   "cell_type": "markdown",
   "metadata": {},
   "source": [
    "### Proceso"
   ]
  },
  {
   "cell_type": "code",
   "execution_count": 11,
   "metadata": {},
   "outputs": [],
   "source": [
    "uc = [\n",
    "    'ID',\n",
    "    'CASETYPEID',\n",
    "    'CASETYPE',\n",
    "    'CANORIGID',\n",
    "    'CANORIG',\n",
    "    'TYPE_CODSUCURSAL',\n",
    "    'STATEID',\n",
    "    'State',\n",
    "    'CREATEDDATE',\n",
    "    'CREATEDMONTH',\n",
    "    'ENDDATE',\n",
    "    'SING_TIPODOC',\n",
    "    'SING_NRODOC',\n",
    "    'CUIT',\n",
    "    'TYPE_NROCTA',\n",
    "    'TYPE_NROTARJETA',\n",
    "    'NIVEL 1',\n",
    "    'NIVEL 2',\n",
    "    'NIVEL 3',\n",
    "    'TYPE_MARCATARJETA',\n",
    "    'TPOSOLUCION_CALCULADO',\n",
    "    'TYPE_IMPORTE_TOTAL_RECLAMADO',\n",
    "    'TYPE_IMPORTE_TOTAL_REINTEGRADO',\n",
    "    'Motivo_Baja_Producto',\n",
    "    'VIA',\n",
    "    'ACEPTA CONTACTO',\n",
    "    'TYPE MOTIVO GESTION BANCON',\n",
    "    'DIAS_DEMORA_DETALLE',\n",
    "    'CASETYPEPATH',\n",
    "    'STARTDATE',\n",
    "    'TYPE_TC_TIPOTARJETA',\n",
    "    'TYPE_TARJETA_NRO',\n",
    "    'TYPE_RUBRO_COMERCIO',\n",
    "    'type_importe_total_reclamado_dolares',\n",
    "    'TYPE_CONVENIO',\n",
    "    'TYPE_UBICACION',\n",
    "    'type_tipo_plataforma_bancon',\n",
    "    'type_motivo_gestion_bancon_empresas',\n",
    "    'type_motivo_consulta_bancon_empresas',\n",
    "    'type_motivo_consulta_bancon'\n",
    "]\n",
    "\n",
    "tc = dict(zip(uc, [str] * len(uc)))\n",
    "tc.update({'TYPE_IMPORTE_TOTAL_RECLAMADO': float, 'TYPE_IMPORTE_TOTAL_REINTEGRADO': float, 'DIAS_DEMORA_DETALLE': int, 'type_importe_total_reclamado_dolares': float})"
   ]
  },
  {
   "cell_type": "code",
   "execution_count": 13,
   "metadata": {},
   "outputs": [
    {
     "name": "stdout",
     "output_type": "stream",
     "text": [
      "c:\\Users\\e21719832\\Documents\\Python\\trayecto3\\Data\\Export\\Gestar_202202.csv Filas: 126900\n",
      "c:\\Users\\e21719832\\Documents\\Python\\trayecto3\\Data\\Export\\Gestar_202203.csv Filas: 147237\n",
      "c:\\Users\\e21719832\\Documents\\Python\\trayecto3\\Data\\Export\\Gestar_202204.csv Filas: 132175\n"
     ]
    }
   ],
   "source": [
    "# Lectura de los archivos\n",
    "for periodo in PERIODOS:\n",
    "\n",
    "    file = DIR + r'\\Gestar\\Transacciones_Gestar_{}_NVO.txt'.format(periodo)\n",
    "    df_gt = pd.read_csv(file, \n",
    "        delimiter='|',\n",
    "        encoding='latin-1',\n",
    "        dtype=tc,\n",
    "        parse_dates=['CREATEDDATE', 'ENDDATE', 'STARTDATE'],\n",
    "        usecols=uc,\n",
    "        decimal=',')\n",
    "\n",
    "    # Donde haya un CUIT con valor nulo lo plancho con el valor del DNI si su longitud de >= 11\n",
    "    df_gt['CUIT'] = np.where(pd.isnull(df_gt['CUIT']) & (df_gt['SING_NRODOC'].str.len()>=11), df_gt['SING_NRODOC'], df_gt['CUIT'])\n",
    "    # Borrar todas las filas sin CUIT\n",
    "    df_gt = df_gt[~pd.isnull(df_gt['CUIT'])]\n",
    "    # Corrijo todos los CUIT que tienen tres ceros adelante\n",
    "    df_gt.loc[(df_gt['CUIT'].str.len()>11) & (df_gt['CUIT'].str[0:3] == '000'), 'CUIT'] = df_gt['CUIT'].str[3:14]\n",
    "        # Corto los CUIT restantes a 11 posiciones (muchos tienen una coma detras)\n",
    "    df_gt.loc[(df_gt['CUIT'].str.len()>11), 'CUIT'] = df_gt['CUIT'].str[0:11]\n",
    "    \n",
    "    # Le saco el guión al mes\n",
    "    df_gt['CREATEDMONTH'] = df_gt['CREATEDMONTH'].str[:4] + df_gt['CREATEDMONTH'].str[5:7]\n",
    "    \n",
    "    # Anonimizo la identificación del usuario tomando el hash de la tabla de usuarios\n",
    "    df_gt = pd.merge(df_us, df_gt, how='inner', left_on='DOCUMENTO', right_on='CUIT')\n",
    "    df_gt.drop(['DOCUMENTO', 'CUIT'], axis=1, inplace=True)\n",
    "\n",
    "    # Grabo\n",
    "    file = DIR + r'\\Export\\Gestar_{}.csv'.format(periodo)\n",
    "    df_gt.to_csv(file, index=False)\n",
    "    print(file, 'Filas:', len(df_gt.index)) "
   ]
  },
  {
   "cell_type": "code",
   "execution_count": 21,
   "metadata": {},
   "outputs": [],
   "source": [
    "# Libero memoria\n",
    "del df_gt"
   ]
  },
  {
   "cell_type": "markdown",
   "metadata": {},
   "source": [
    "## Depuración y generación del archivo de Movimientos Monetarios y No Monetarios"
   ]
  },
  {
   "cell_type": "markdown",
   "metadata": {},
   "source": [
    "### Estructura del archivo (Transacciones Monetarias y no Monetarias)"
   ]
  },
  {
   "cell_type": "markdown",
   "metadata": {},
   "source": [
    "|Campo    |Descripción   |\n",
    "|---    |---   |\n",
    "|PERIODO    |Período YYYYMM   |\n",
    "|TIPO_CANAL |Tipo de canal   |\n",
    "|CANAL  |Canal (SUCURSAL/BANCON_MOBILE/BANCON_WEB)  |\n",
    "|TIPO_CLIENTE   |Tipo de cliente (EMPRESA/INDIVIDUO)  |\n",
    "|CUITCLIE   |CUIT/CUIL del cliente   |\n",
    "|GRUPO_OPERACION    |Grupo de operación   |\n",
    "|TIPO_OPERACION |Tipo de operación   |\n",
    "|TIPO_OPERACION2    |Tipo de operación 2   |\n",
    "|OPERACION  |Operación   |\n",
    "|SUCURSAL   |Sucursal   |\n",
    "|CAB    |CAB   |\n",
    "|IMPORTE    |Importe   |\n",
    "|ORIGEN |Origen   |\n",
    "|TIPO_TRX   |Tipo de transacción (MONETARIA/NOMONETARIA)   |\n",
    "|CANAL_RATIO    |**Canal Ratio?**   |\n",
    "|CLASIF_TRX |Clasificación de la transacción   |"
   ]
  },
  {
   "cell_type": "markdown",
   "metadata": {},
   "source": [
    "### Proceso"
   ]
  },
  {
   "cell_type": "code",
   "execution_count": 22,
   "metadata": {},
   "outputs": [],
   "source": [
    "# Proceso principal de lectura, transformación y grabación del archivo de transacciones\n",
    "def process_file_tx(file_input: str, file_output: str):\n",
    "\n",
    "    uc = [\n",
    "        'PERIODO',\n",
    "        'TIPO_CANAL',\n",
    "        'CANAL',\n",
    "        'TIPO_CLIENTE',\n",
    "        'CUITCLIE',\n",
    "        'GRUPO_OPERACION',\n",
    "        'TIPO_OPERACION',\n",
    "        'TIPO_OPERACION2',\n",
    "        'SUCURSAL',\n",
    "        'IMPORTE',\n",
    "        'ORIGEN',\n",
    "        'CANAL_RATIO',\n",
    "        'CLASIF_TRX'\n",
    "    ]\n",
    "\n",
    "    tc = dict(zip(uc, [str] * len(uc)))\n",
    "    tc.update({'IMPORTE': float})\n",
    "\n",
    "\n",
    "    # Lectura de archivo\n",
    "    df_tx = pd.read_csv(file_input,\n",
    "        iterator=True,\n",
    "        #nrows=1_000_000,\n",
    "        chunksize=1_000_000,\n",
    "        delimiter='|',\n",
    "        decimal=',',\n",
    "        encoding='latin-1',\n",
    "        dtype=tc,\n",
    "        usecols=uc)\n",
    "\n",
    "    # Itero en el archivo, lo transformo y lo voy grabando por partes\n",
    "    file_mode = 'w'\n",
    "    for df_tx_chunk in df_tx:\n",
    "\n",
    "        # Primero filtro los registros con CUIT = 0 y de banca individuos\n",
    "        df_tx_chunk = df_tx_chunk[(df_tx_chunk['CUITCLIE'] != '0') & (df_tx_chunk['TIPO_CLIENTE'] == 'INDIVIDUO')]\n",
    "\n",
    "        # Anonimizo la identificación del usuario tomando el hash de la tabla de usuarios\n",
    "        df_tx_chunk = pd.merge(df_us, df_tx_chunk, how='inner', left_on='DOCUMENTO', right_on='CUITCLIE')\n",
    "\n",
    "        df_tx_chunk.drop(['DOCUMENTO', 'CUITCLIE', 'TIPO_CLIENTE'], axis=1, inplace=True)\n",
    "\n",
    "        # Intercambio las columnas PERIODO y ID_USER\n",
    "        cols_tx = list(df_tx_chunk.columns)\n",
    "        col_a, col_b = cols_tx.index('ID_USER'), cols_tx.index('PERIODO')\n",
    "        cols_tx[col_b], cols_tx[col_a] = cols_tx[col_a], cols_tx[col_b]\n",
    "        df_tx_chunk = df_tx_chunk[cols_tx]\n",
    "\n",
    "        # Voy grabando\n",
    "        df_tx_chunk.to_csv(file_output, index=False, mode=file_mode, header=(file_mode == 'w'))\n",
    "        print(file_output, 'Filas:', len(df_tx_chunk.index), file_mode, (file_mode == 'w')) \n",
    "        file_mode = 'a'"
   ]
  },
  {
   "cell_type": "code",
   "execution_count": 23,
   "metadata": {},
   "outputs": [
    {
     "name": "stdout",
     "output_type": "stream",
     "text": [
      "c:\\Users\\e21719832\\Documents\\Python\\trayecto3\\Data\\Export\\Detalle_Trx_Monetarias_202202.csv Filas: 865725 w True\n",
      "c:\\Users\\e21719832\\Documents\\Python\\trayecto3\\Data\\Export\\Detalle_Trx_Monetarias_202202.csv Filas: 995044 a False\n",
      "c:\\Users\\e21719832\\Documents\\Python\\trayecto3\\Data\\Export\\Detalle_Trx_Monetarias_202202.csv Filas: 929577 a False\n",
      "c:\\Users\\e21719832\\Documents\\Python\\trayecto3\\Data\\Export\\Detalle_Trx_Monetarias_202202.csv Filas: 851290 a False\n",
      "c:\\Users\\e21719832\\Documents\\Python\\trayecto3\\Data\\Export\\Detalle_Trx_Monetarias_202202.csv Filas: 666912 a False\n",
      "c:\\Users\\e21719832\\Documents\\Python\\trayecto3\\Data\\Export\\Detalle_Trx_Monetarias_202202.csv Filas: 212242 a False\n",
      "c:\\Users\\e21719832\\Documents\\Python\\trayecto3\\Data\\Export\\Detalle_Trx_Monetarias_202202.csv Filas: 434515 a False\n",
      "c:\\Users\\e21719832\\Documents\\Python\\trayecto3\\Data\\Export\\Detalle_Trx_Monetarias_202202.csv Filas: 725269 a False\n",
      "c:\\Users\\e21719832\\Documents\\Python\\trayecto3\\Data\\Export\\Detalle_Trx_Monetarias_202202.csv Filas: 831552 a False\n",
      "c:\\Users\\e21719832\\Documents\\Python\\trayecto3\\Data\\Export\\Detalle_Trx_Monetarias_202202.csv Filas: 866875 a False\n",
      "c:\\Users\\e21719832\\Documents\\Python\\trayecto3\\Data\\Export\\Detalle_Trx_Monetarias_202202.csv Filas: 876479 a False\n",
      "c:\\Users\\e21719832\\Documents\\Python\\trayecto3\\Data\\Export\\Detalle_Trx_Monetarias_202202.csv Filas: 881253 a False\n",
      "c:\\Users\\e21719832\\Documents\\Python\\trayecto3\\Data\\Export\\Detalle_Trx_Monetarias_202202.csv Filas: 880012 a False\n",
      "c:\\Users\\e21719832\\Documents\\Python\\trayecto3\\Data\\Export\\Detalle_Trx_Monetarias_202202.csv Filas: 880444 a False\n",
      "c:\\Users\\e21719832\\Documents\\Python\\trayecto3\\Data\\Export\\Detalle_Trx_Monetarias_202202.csv Filas: 749444 a False\n",
      "c:\\Users\\e21719832\\Documents\\Python\\trayecto3\\Data\\Export\\Detalle_Trx_Monetarias_202202.csv Filas: 194601 a False\n",
      "c:\\Users\\e21719832\\Documents\\Python\\trayecto3\\Data\\Export\\Detalle_Trx_Monetarias_202203.csv Filas: 854066 w True\n",
      "c:\\Users\\e21719832\\Documents\\Python\\trayecto3\\Data\\Export\\Detalle_Trx_Monetarias_202203.csv Filas: 984652 a False\n",
      "c:\\Users\\e21719832\\Documents\\Python\\trayecto3\\Data\\Export\\Detalle_Trx_Monetarias_202203.csv Filas: 995968 a False\n",
      "c:\\Users\\e21719832\\Documents\\Python\\trayecto3\\Data\\Export\\Detalle_Trx_Monetarias_202203.csv Filas: 816113 a False\n",
      "c:\\Users\\e21719832\\Documents\\Python\\trayecto3\\Data\\Export\\Detalle_Trx_Monetarias_202203.csv Filas: 790340 a False\n",
      "c:\\Users\\e21719832\\Documents\\Python\\trayecto3\\Data\\Export\\Detalle_Trx_Monetarias_202203.csv Filas: 694313 a False\n",
      "c:\\Users\\e21719832\\Documents\\Python\\trayecto3\\Data\\Export\\Detalle_Trx_Monetarias_202203.csv Filas: 135532 a False\n",
      "c:\\Users\\e21719832\\Documents\\Python\\trayecto3\\Data\\Export\\Detalle_Trx_Monetarias_202203.csv Filas: 407153 a False\n",
      "c:\\Users\\e21719832\\Documents\\Python\\trayecto3\\Data\\Export\\Detalle_Trx_Monetarias_202203.csv Filas: 701665 a False\n",
      "c:\\Users\\e21719832\\Documents\\Python\\trayecto3\\Data\\Export\\Detalle_Trx_Monetarias_202203.csv Filas: 820296 a False\n",
      "c:\\Users\\e21719832\\Documents\\Python\\trayecto3\\Data\\Export\\Detalle_Trx_Monetarias_202203.csv Filas: 857269 a False\n",
      "c:\\Users\\e21719832\\Documents\\Python\\trayecto3\\Data\\Export\\Detalle_Trx_Monetarias_202203.csv Filas: 868140 a False\n",
      "c:\\Users\\e21719832\\Documents\\Python\\trayecto3\\Data\\Export\\Detalle_Trx_Monetarias_202203.csv Filas: 871630 a False\n",
      "c:\\Users\\e21719832\\Documents\\Python\\trayecto3\\Data\\Export\\Detalle_Trx_Monetarias_202203.csv Filas: 868868 a False\n",
      "c:\\Users\\e21719832\\Documents\\Python\\trayecto3\\Data\\Export\\Detalle_Trx_Monetarias_202203.csv Filas: 869737 a False\n",
      "c:\\Users\\e21719832\\Documents\\Python\\trayecto3\\Data\\Export\\Detalle_Trx_Monetarias_202203.csv Filas: 863561 a False\n",
      "c:\\Users\\e21719832\\Documents\\Python\\trayecto3\\Data\\Export\\Detalle_Trx_Monetarias_202203.csv Filas: 605790 a False\n",
      "c:\\Users\\e21719832\\Documents\\Python\\trayecto3\\Data\\Export\\Detalle_Trx_Monetarias_202203.csv Filas: 168757 a False\n",
      "c:\\Users\\e21719832\\Documents\\Python\\trayecto3\\Data\\Export\\Detalle_Trx_Monetarias_202204.csv Filas: 872893 w True\n",
      "c:\\Users\\e21719832\\Documents\\Python\\trayecto3\\Data\\Export\\Detalle_Trx_Monetarias_202204.csv Filas: 983527 a False\n",
      "c:\\Users\\e21719832\\Documents\\Python\\trayecto3\\Data\\Export\\Detalle_Trx_Monetarias_202204.csv Filas: 994204 a False\n",
      "c:\\Users\\e21719832\\Documents\\Python\\trayecto3\\Data\\Export\\Detalle_Trx_Monetarias_202204.csv Filas: 818968 a False\n",
      "c:\\Users\\e21719832\\Documents\\Python\\trayecto3\\Data\\Export\\Detalle_Trx_Monetarias_202204.csv Filas: 734105 a False\n",
      "c:\\Users\\e21719832\\Documents\\Python\\trayecto3\\Data\\Export\\Detalle_Trx_Monetarias_202204.csv Filas: 214749 a False\n",
      "c:\\Users\\e21719832\\Documents\\Python\\trayecto3\\Data\\Export\\Detalle_Trx_Monetarias_202204.csv Filas: 417341 a False\n",
      "c:\\Users\\e21719832\\Documents\\Python\\trayecto3\\Data\\Export\\Detalle_Trx_Monetarias_202204.csv Filas: 696806 a False\n",
      "c:\\Users\\e21719832\\Documents\\Python\\trayecto3\\Data\\Export\\Detalle_Trx_Monetarias_202204.csv Filas: 807307 a False\n",
      "c:\\Users\\e21719832\\Documents\\Python\\trayecto3\\Data\\Export\\Detalle_Trx_Monetarias_202204.csv Filas: 852149 a False\n",
      "c:\\Users\\e21719832\\Documents\\Python\\trayecto3\\Data\\Export\\Detalle_Trx_Monetarias_202204.csv Filas: 866134 a False\n",
      "c:\\Users\\e21719832\\Documents\\Python\\trayecto3\\Data\\Export\\Detalle_Trx_Monetarias_202204.csv Filas: 876362 a False\n",
      "c:\\Users\\e21719832\\Documents\\Python\\trayecto3\\Data\\Export\\Detalle_Trx_Monetarias_202204.csv Filas: 874255 a False\n",
      "c:\\Users\\e21719832\\Documents\\Python\\trayecto3\\Data\\Export\\Detalle_Trx_Monetarias_202204.csv Filas: 877436 a False\n",
      "c:\\Users\\e21719832\\Documents\\Python\\trayecto3\\Data\\Export\\Detalle_Trx_Monetarias_202204.csv Filas: 865319 a False\n",
      "c:\\Users\\e21719832\\Documents\\Python\\trayecto3\\Data\\Export\\Detalle_Trx_Monetarias_202204.csv Filas: 576387 a False\n",
      "c:\\Users\\e21719832\\Documents\\Python\\trayecto3\\Data\\Export\\Detalle_Trx_Monetarias_202204.csv Filas: 117573 a False\n"
     ]
    }
   ],
   "source": [
    "# Procesar los 3 archivos de movimientos que tenemos disponibles de transacciones MONETARIAS\n",
    "for periodo in PERIODOS:\n",
    "    process_file_tx(\n",
    "        DIR + r\"\\Transacciones\\Detalle_Trx_Monetarias_{}.txt\".format(periodo),\n",
    "        DIR + r\"\\Export\\Detalle_Trx_Monetarias_{}.csv\".format(periodo))"
   ]
  },
  {
   "cell_type": "code",
   "execution_count": 24,
   "metadata": {},
   "outputs": [
    {
     "name": "stdout",
     "output_type": "stream",
     "text": [
      "c:\\Users\\e21719832\\Documents\\Python\\trayecto3\\Data\\Export\\Detalle_Trx_NoMonetarias_202202.csv Filas: 966642 w True\n",
      "c:\\Users\\e21719832\\Documents\\Python\\trayecto3\\Data\\Export\\Detalle_Trx_NoMonetarias_202202.csv Filas: 928498 a False\n",
      "c:\\Users\\e21719832\\Documents\\Python\\trayecto3\\Data\\Export\\Detalle_Trx_NoMonetarias_202202.csv Filas: 1000000 a False\n",
      "c:\\Users\\e21719832\\Documents\\Python\\trayecto3\\Data\\Export\\Detalle_Trx_NoMonetarias_202202.csv Filas: 1000000 a False\n",
      "c:\\Users\\e21719832\\Documents\\Python\\trayecto3\\Data\\Export\\Detalle_Trx_NoMonetarias_202202.csv Filas: 999487 a False\n",
      "c:\\Users\\e21719832\\Documents\\Python\\trayecto3\\Data\\Export\\Detalle_Trx_NoMonetarias_202202.csv Filas: 851731 a False\n",
      "c:\\Users\\e21719832\\Documents\\Python\\trayecto3\\Data\\Export\\Detalle_Trx_NoMonetarias_202202.csv Filas: 967853 a False\n",
      "c:\\Users\\e21719832\\Documents\\Python\\trayecto3\\Data\\Export\\Detalle_Trx_NoMonetarias_202202.csv Filas: 1000000 a False\n",
      "c:\\Users\\e21719832\\Documents\\Python\\trayecto3\\Data\\Export\\Detalle_Trx_NoMonetarias_202202.csv Filas: 999857 a False\n",
      "c:\\Users\\e21719832\\Documents\\Python\\trayecto3\\Data\\Export\\Detalle_Trx_NoMonetarias_202202.csv Filas: 963042 a False\n",
      "c:\\Users\\e21719832\\Documents\\Python\\trayecto3\\Data\\Export\\Detalle_Trx_NoMonetarias_202202.csv Filas: 866390 a False\n",
      "c:\\Users\\e21719832\\Documents\\Python\\trayecto3\\Data\\Export\\Detalle_Trx_NoMonetarias_202202.csv Filas: 981478 a False\n",
      "c:\\Users\\e21719832\\Documents\\Python\\trayecto3\\Data\\Export\\Detalle_Trx_NoMonetarias_202202.csv Filas: 1000000 a False\n",
      "c:\\Users\\e21719832\\Documents\\Python\\trayecto3\\Data\\Export\\Detalle_Trx_NoMonetarias_202202.csv Filas: 993704 a False\n",
      "c:\\Users\\e21719832\\Documents\\Python\\trayecto3\\Data\\Export\\Detalle_Trx_NoMonetarias_202202.csv Filas: 970078 a False\n",
      "c:\\Users\\e21719832\\Documents\\Python\\trayecto3\\Data\\Export\\Detalle_Trx_NoMonetarias_202202.csv Filas: 984977 a False\n",
      "c:\\Users\\e21719832\\Documents\\Python\\trayecto3\\Data\\Export\\Detalle_Trx_NoMonetarias_202202.csv Filas: 970296 a False\n",
      "c:\\Users\\e21719832\\Documents\\Python\\trayecto3\\Data\\Export\\Detalle_Trx_NoMonetarias_202202.csv Filas: 978375 a False\n",
      "c:\\Users\\e21719832\\Documents\\Python\\trayecto3\\Data\\Export\\Detalle_Trx_NoMonetarias_202202.csv Filas: 1000000 a False\n",
      "c:\\Users\\e21719832\\Documents\\Python\\trayecto3\\Data\\Export\\Detalle_Trx_NoMonetarias_202202.csv Filas: 1000000 a False\n",
      "c:\\Users\\e21719832\\Documents\\Python\\trayecto3\\Data\\Export\\Detalle_Trx_NoMonetarias_202202.csv Filas: 999660 a False\n",
      "c:\\Users\\e21719832\\Documents\\Python\\trayecto3\\Data\\Export\\Detalle_Trx_NoMonetarias_202202.csv Filas: 999791 a False\n",
      "c:\\Users\\e21719832\\Documents\\Python\\trayecto3\\Data\\Export\\Detalle_Trx_NoMonetarias_202202.csv Filas: 999926 a False\n",
      "c:\\Users\\e21719832\\Documents\\Python\\trayecto3\\Data\\Export\\Detalle_Trx_NoMonetarias_202202.csv Filas: 960481 a False\n",
      "c:\\Users\\e21719832\\Documents\\Python\\trayecto3\\Data\\Export\\Detalle_Trx_NoMonetarias_202202.csv Filas: 783874 a False\n",
      "c:\\Users\\e21719832\\Documents\\Python\\trayecto3\\Data\\Export\\Detalle_Trx_NoMonetarias_202202.csv Filas: 936055 a False\n",
      "c:\\Users\\e21719832\\Documents\\Python\\trayecto3\\Data\\Export\\Detalle_Trx_NoMonetarias_202202.csv Filas: 977878 a False\n",
      "c:\\Users\\e21719832\\Documents\\Python\\trayecto3\\Data\\Export\\Detalle_Trx_NoMonetarias_202202.csv Filas: 789302 a False\n",
      "c:\\Users\\e21719832\\Documents\\Python\\trayecto3\\Data\\Export\\Detalle_Trx_NoMonetarias_202202.csv Filas: 557787 a False\n",
      "c:\\Users\\e21719832\\Documents\\Python\\trayecto3\\Data\\Export\\Detalle_Trx_NoMonetarias_202202.csv Filas: 752775 a False\n",
      "c:\\Users\\e21719832\\Documents\\Python\\trayecto3\\Data\\Export\\Detalle_Trx_NoMonetarias_202202.csv Filas: 503812 a False\n",
      "c:\\Users\\e21719832\\Documents\\Python\\trayecto3\\Data\\Export\\Detalle_Trx_NoMonetarias_202202.csv Filas: 17883 a False\n",
      "c:\\Users\\e21719832\\Documents\\Python\\trayecto3\\Data\\Export\\Detalle_Trx_NoMonetarias_202203.csv Filas: 947805 w True\n",
      "c:\\Users\\e21719832\\Documents\\Python\\trayecto3\\Data\\Export\\Detalle_Trx_NoMonetarias_202203.csv Filas: 927061 a False\n",
      "c:\\Users\\e21719832\\Documents\\Python\\trayecto3\\Data\\Export\\Detalle_Trx_NoMonetarias_202203.csv Filas: 989162 a False\n",
      "c:\\Users\\e21719832\\Documents\\Python\\trayecto3\\Data\\Export\\Detalle_Trx_NoMonetarias_202203.csv Filas: 1000000 a False\n",
      "c:\\Users\\e21719832\\Documents\\Python\\trayecto3\\Data\\Export\\Detalle_Trx_NoMonetarias_202203.csv Filas: 999689 a False\n",
      "c:\\Users\\e21719832\\Documents\\Python\\trayecto3\\Data\\Export\\Detalle_Trx_NoMonetarias_202203.csv Filas: 999603 a False\n",
      "c:\\Users\\e21719832\\Documents\\Python\\trayecto3\\Data\\Export\\Detalle_Trx_NoMonetarias_202203.csv Filas: 794022 a False\n",
      "c:\\Users\\e21719832\\Documents\\Python\\trayecto3\\Data\\Export\\Detalle_Trx_NoMonetarias_202203.csv Filas: 986933 a False\n",
      "c:\\Users\\e21719832\\Documents\\Python\\trayecto3\\Data\\Export\\Detalle_Trx_NoMonetarias_202203.csv Filas: 1000000 a False\n",
      "c:\\Users\\e21719832\\Documents\\Python\\trayecto3\\Data\\Export\\Detalle_Trx_NoMonetarias_202203.csv Filas: 999704 a False\n",
      "c:\\Users\\e21719832\\Documents\\Python\\trayecto3\\Data\\Export\\Detalle_Trx_NoMonetarias_202203.csv Filas: 999688 a False\n",
      "c:\\Users\\e21719832\\Documents\\Python\\trayecto3\\Data\\Export\\Detalle_Trx_NoMonetarias_202203.csv Filas: 822130 a False\n",
      "c:\\Users\\e21719832\\Documents\\Python\\trayecto3\\Data\\Export\\Detalle_Trx_NoMonetarias_202203.csv Filas: 950104 a False\n",
      "c:\\Users\\e21719832\\Documents\\Python\\trayecto3\\Data\\Export\\Detalle_Trx_NoMonetarias_202203.csv Filas: 999231 a False\n",
      "c:\\Users\\e21719832\\Documents\\Python\\trayecto3\\Data\\Export\\Detalle_Trx_NoMonetarias_202203.csv Filas: 1000000 a False\n",
      "c:\\Users\\e21719832\\Documents\\Python\\trayecto3\\Data\\Export\\Detalle_Trx_NoMonetarias_202203.csv Filas: 990926 a False\n",
      "c:\\Users\\e21719832\\Documents\\Python\\trayecto3\\Data\\Export\\Detalle_Trx_NoMonetarias_202203.csv Filas: 962285 a False\n",
      "c:\\Users\\e21719832\\Documents\\Python\\trayecto3\\Data\\Export\\Detalle_Trx_NoMonetarias_202203.csv Filas: 981323 a False\n",
      "c:\\Users\\e21719832\\Documents\\Python\\trayecto3\\Data\\Export\\Detalle_Trx_NoMonetarias_202203.csv Filas: 993124 a False\n",
      "c:\\Users\\e21719832\\Documents\\Python\\trayecto3\\Data\\Export\\Detalle_Trx_NoMonetarias_202203.csv Filas: 951014 a False\n",
      "c:\\Users\\e21719832\\Documents\\Python\\trayecto3\\Data\\Export\\Detalle_Trx_NoMonetarias_202203.csv Filas: 1000000 a False\n",
      "c:\\Users\\e21719832\\Documents\\Python\\trayecto3\\Data\\Export\\Detalle_Trx_NoMonetarias_202203.csv Filas: 1000000 a False\n",
      "c:\\Users\\e21719832\\Documents\\Python\\trayecto3\\Data\\Export\\Detalle_Trx_NoMonetarias_202203.csv Filas: 1000000 a False\n",
      "c:\\Users\\e21719832\\Documents\\Python\\trayecto3\\Data\\Export\\Detalle_Trx_NoMonetarias_202203.csv Filas: 999475 a False\n",
      "c:\\Users\\e21719832\\Documents\\Python\\trayecto3\\Data\\Export\\Detalle_Trx_NoMonetarias_202203.csv Filas: 999634 a False\n",
      "c:\\Users\\e21719832\\Documents\\Python\\trayecto3\\Data\\Export\\Detalle_Trx_NoMonetarias_202203.csv Filas: 1000000 a False\n",
      "c:\\Users\\e21719832\\Documents\\Python\\trayecto3\\Data\\Export\\Detalle_Trx_NoMonetarias_202203.csv Filas: 995228 a False\n",
      "c:\\Users\\e21719832\\Documents\\Python\\trayecto3\\Data\\Export\\Detalle_Trx_NoMonetarias_202203.csv Filas: 735810 a False\n",
      "c:\\Users\\e21719832\\Documents\\Python\\trayecto3\\Data\\Export\\Detalle_Trx_NoMonetarias_202203.csv Filas: 931171 a False\n",
      "c:\\Users\\e21719832\\Documents\\Python\\trayecto3\\Data\\Export\\Detalle_Trx_NoMonetarias_202203.csv Filas: 945877 a False\n",
      "c:\\Users\\e21719832\\Documents\\Python\\trayecto3\\Data\\Export\\Detalle_Trx_NoMonetarias_202203.csv Filas: 963371 a False\n",
      "c:\\Users\\e21719832\\Documents\\Python\\trayecto3\\Data\\Export\\Detalle_Trx_NoMonetarias_202203.csv Filas: 756081 a False\n",
      "c:\\Users\\e21719832\\Documents\\Python\\trayecto3\\Data\\Export\\Detalle_Trx_NoMonetarias_202203.csv Filas: 518262 a False\n",
      "c:\\Users\\e21719832\\Documents\\Python\\trayecto3\\Data\\Export\\Detalle_Trx_NoMonetarias_202203.csv Filas: 748668 a False\n",
      "c:\\Users\\e21719832\\Documents\\Python\\trayecto3\\Data\\Export\\Detalle_Trx_NoMonetarias_202203.csv Filas: 647848 a False\n",
      "c:\\Users\\e21719832\\Documents\\Python\\trayecto3\\Data\\Export\\Detalle_Trx_NoMonetarias_202203.csv Filas: 72664 a False\n",
      "c:\\Users\\e21719832\\Documents\\Python\\trayecto3\\Data\\Export\\Detalle_Trx_NoMonetarias_202204.csv Filas: 951907 w True\n",
      "c:\\Users\\e21719832\\Documents\\Python\\trayecto3\\Data\\Export\\Detalle_Trx_NoMonetarias_202204.csv Filas: 935728 a False\n",
      "c:\\Users\\e21719832\\Documents\\Python\\trayecto3\\Data\\Export\\Detalle_Trx_NoMonetarias_202204.csv Filas: 972480 a False\n",
      "c:\\Users\\e21719832\\Documents\\Python\\trayecto3\\Data\\Export\\Detalle_Trx_NoMonetarias_202204.csv Filas: 1000000 a False\n",
      "c:\\Users\\e21719832\\Documents\\Python\\trayecto3\\Data\\Export\\Detalle_Trx_NoMonetarias_202204.csv Filas: 999752 a False\n",
      "c:\\Users\\e21719832\\Documents\\Python\\trayecto3\\Data\\Export\\Detalle_Trx_NoMonetarias_202204.csv Filas: 989744 a False\n",
      "c:\\Users\\e21719832\\Documents\\Python\\trayecto3\\Data\\Export\\Detalle_Trx_NoMonetarias_202204.csv Filas: 803488 a False\n",
      "c:\\Users\\e21719832\\Documents\\Python\\trayecto3\\Data\\Export\\Detalle_Trx_NoMonetarias_202204.csv Filas: 990281 a False\n",
      "c:\\Users\\e21719832\\Documents\\Python\\trayecto3\\Data\\Export\\Detalle_Trx_NoMonetarias_202204.csv Filas: 1000000 a False\n",
      "c:\\Users\\e21719832\\Documents\\Python\\trayecto3\\Data\\Export\\Detalle_Trx_NoMonetarias_202204.csv Filas: 999768 a False\n",
      "c:\\Users\\e21719832\\Documents\\Python\\trayecto3\\Data\\Export\\Detalle_Trx_NoMonetarias_202204.csv Filas: 999666 a False\n",
      "c:\\Users\\e21719832\\Documents\\Python\\trayecto3\\Data\\Export\\Detalle_Trx_NoMonetarias_202204.csv Filas: 809214 a False\n",
      "c:\\Users\\e21719832\\Documents\\Python\\trayecto3\\Data\\Export\\Detalle_Trx_NoMonetarias_202204.csv Filas: 952726 a False\n",
      "c:\\Users\\e21719832\\Documents\\Python\\trayecto3\\Data\\Export\\Detalle_Trx_NoMonetarias_202204.csv Filas: 998914 a False\n",
      "c:\\Users\\e21719832\\Documents\\Python\\trayecto3\\Data\\Export\\Detalle_Trx_NoMonetarias_202204.csv Filas: 1000000 a False\n",
      "c:\\Users\\e21719832\\Documents\\Python\\trayecto3\\Data\\Export\\Detalle_Trx_NoMonetarias_202204.csv Filas: 949755 a False\n",
      "c:\\Users\\e21719832\\Documents\\Python\\trayecto3\\Data\\Export\\Detalle_Trx_NoMonetarias_202204.csv Filas: 999941 a False\n",
      "c:\\Users\\e21719832\\Documents\\Python\\trayecto3\\Data\\Export\\Detalle_Trx_NoMonetarias_202204.csv Filas: 981192 a False\n",
      "c:\\Users\\e21719832\\Documents\\Python\\trayecto3\\Data\\Export\\Detalle_Trx_NoMonetarias_202204.csv Filas: 978166 a False\n",
      "c:\\Users\\e21719832\\Documents\\Python\\trayecto3\\Data\\Export\\Detalle_Trx_NoMonetarias_202204.csv Filas: 966188 a False\n",
      "c:\\Users\\e21719832\\Documents\\Python\\trayecto3\\Data\\Export\\Detalle_Trx_NoMonetarias_202204.csv Filas: 1000000 a False\n",
      "c:\\Users\\e21719832\\Documents\\Python\\trayecto3\\Data\\Export\\Detalle_Trx_NoMonetarias_202204.csv Filas: 1000000 a False\n",
      "c:\\Users\\e21719832\\Documents\\Python\\trayecto3\\Data\\Export\\Detalle_Trx_NoMonetarias_202204.csv Filas: 1000000 a False\n",
      "c:\\Users\\e21719832\\Documents\\Python\\trayecto3\\Data\\Export\\Detalle_Trx_NoMonetarias_202204.csv Filas: 999526 a False\n",
      "c:\\Users\\e21719832\\Documents\\Python\\trayecto3\\Data\\Export\\Detalle_Trx_NoMonetarias_202204.csv Filas: 999610 a False\n",
      "c:\\Users\\e21719832\\Documents\\Python\\trayecto3\\Data\\Export\\Detalle_Trx_NoMonetarias_202204.csv Filas: 1000000 a False\n",
      "c:\\Users\\e21719832\\Documents\\Python\\trayecto3\\Data\\Export\\Detalle_Trx_NoMonetarias_202204.csv Filas: 904477 a False\n",
      "c:\\Users\\e21719832\\Documents\\Python\\trayecto3\\Data\\Export\\Detalle_Trx_NoMonetarias_202204.csv Filas: 801750 a False\n",
      "c:\\Users\\e21719832\\Documents\\Python\\trayecto3\\Data\\Export\\Detalle_Trx_NoMonetarias_202204.csv Filas: 934025 a False\n",
      "c:\\Users\\e21719832\\Documents\\Python\\trayecto3\\Data\\Export\\Detalle_Trx_NoMonetarias_202204.csv Filas: 959058 a False\n",
      "c:\\Users\\e21719832\\Documents\\Python\\trayecto3\\Data\\Export\\Detalle_Trx_NoMonetarias_202204.csv Filas: 930835 a False\n",
      "c:\\Users\\e21719832\\Documents\\Python\\trayecto3\\Data\\Export\\Detalle_Trx_NoMonetarias_202204.csv Filas: 532188 a False\n",
      "c:\\Users\\e21719832\\Documents\\Python\\trayecto3\\Data\\Export\\Detalle_Trx_NoMonetarias_202204.csv Filas: 666821 a False\n",
      "c:\\Users\\e21719832\\Documents\\Python\\trayecto3\\Data\\Export\\Detalle_Trx_NoMonetarias_202204.csv Filas: 728566 a False\n",
      "c:\\Users\\e21719832\\Documents\\Python\\trayecto3\\Data\\Export\\Detalle_Trx_NoMonetarias_202204.csv Filas: 531842 a False\n",
      "c:\\Users\\e21719832\\Documents\\Python\\trayecto3\\Data\\Export\\Detalle_Trx_NoMonetarias_202204.csv Filas: 22386 a False\n"
     ]
    }
   ],
   "source": [
    "# Procesar los 3 archivos de movimientos que tenemos disponibles de transacciones NO MONETARIAS\n",
    "for periodo in PERIODOS:\n",
    "    process_file_tx(\n",
    "        DIR + r\"\\Transacciones\\Detalle_Trx_NoMonetarias_{}.txt\".format(periodo),\n",
    "        DIR + r\"\\Export\\Detalle_Trx_NoMonetarias_{}.csv\".format(periodo))"
   ]
  },
  {
   "cell_type": "markdown",
   "metadata": {},
   "source": [
    "## Generación del archivo de Movimientos Agregados\n",
    "El motivo de la generación de este archivo es que los del apartados anterior todavía tienen un tamaño considerable para poderlos subir a Google Colab"
   ]
  },
  {
   "cell_type": "markdown",
   "metadata": {},
   "source": [
    "### Proceso"
   ]
  },
  {
   "cell_type": "code",
   "execution_count": 25,
   "metadata": {},
   "outputs": [],
   "source": [
    "# Proceso principal de lectura, transformación y grabación del archivo agregado de transacciones\n",
    "def process_file_tx_sum(file_input: str, file_output: str):\n",
    "\n",
    "    uc = [\n",
    "        'PERIODO',\n",
    "        'ID_USER',\n",
    "        'TIPO_CANAL',\n",
    "        'CANAL',\n",
    "        'GRUPO_OPERACION',\n",
    "        'TIPO_OPERACION',\n",
    "        'TIPO_OPERACION2',\n",
    "        'SUCURSAL',\n",
    "        'ORIGEN',\n",
    "        'CANAL_RATIO',\n",
    "        'CLASIF_TRX',\n",
    "        'IMPORTE'\n",
    "    ]\n",
    "\n",
    "    tc = dict(zip(uc, [str] * len(uc)))\n",
    "    tc.update({'IMPORTE': float})\n",
    "\n",
    "    # Lectura de archivo\n",
    "    df = pd.read_csv(file_input,\n",
    "        iterator=True,\n",
    "        chunksize=1_000_000,\n",
    "        encoding='latin-1',\n",
    "        dtype=tc,\n",
    "        usecols=uc)\n",
    "\n",
    "    # Itero en el archivo, lo transformo y lo voy grabando por partes\n",
    "    df_sum = pd.DataFrame()   \n",
    "    for df_chunk in df:\n",
    "        df_sum = pd.concat([df_sum, df_chunk.groupby([\n",
    "            'PERIODO',\n",
    "            'ID_USER',\n",
    "            'TIPO_CANAL',\n",
    "            'CANAL',\n",
    "            'GRUPO_OPERACION',\n",
    "            'TIPO_OPERACION',\n",
    "            'TIPO_OPERACION2',\n",
    "            'SUCURSAL',\n",
    "            'CANAL_RATIO',\n",
    "            'CLASIF_TRX',\n",
    "            'ORIGEN']) \\\n",
    "            .aggregate(CANT_OPERACIONES=('IMPORTE', 'count'), MONTO_TOTAL=('IMPORTE', 'sum')) \\\n",
    "            .reset_index()])\n",
    "\n",
    "    df_sum = df_sum.groupby([\n",
    "        'PERIODO',\n",
    "        'ID_USER',\n",
    "        'TIPO_CANAL',\n",
    "        'CANAL',\n",
    "        'GRUPO_OPERACION',\n",
    "        'TIPO_OPERACION',\n",
    "        'TIPO_OPERACION2',\n",
    "        'SUCURSAL',\n",
    "        'CANAL_RATIO',\n",
    "        'CLASIF_TRX',\n",
    "        'ORIGEN']) \\\n",
    "        .aggregate('sum') \\\n",
    "        .reset_index()\n",
    "\n",
    "    df_sum.to_csv(file_output, index=False)\n",
    "    print(file_output, 'Filas:', len(df_sum.index)) "
   ]
  },
  {
   "cell_type": "code",
   "execution_count": 26,
   "metadata": {},
   "outputs": [
    {
     "name": "stdout",
     "output_type": "stream",
     "text": [
      "c:\\Users\\e21719832\\Documents\\Python\\trayecto3\\Data\\Export\\Sum_Trx_Monetarias_202202.csv Filas: 378149\n",
      "c:\\Users\\e21719832\\Documents\\Python\\trayecto3\\Data\\Export\\Sum_Trx_Monetarias_202203.csv Filas: 403439\n",
      "c:\\Users\\e21719832\\Documents\\Python\\trayecto3\\Data\\Export\\Sum_Trx_Monetarias_202204.csv Filas: 402960\n"
     ]
    }
   ],
   "source": [
    "# Procesar los 3 archivos de movimientos que tenemos disponibles de transacciones MONETARIAS\n",
    "for periodo in PERIODOS:\n",
    "    process_file_tx_sum(\n",
    "        DIR + r'\\Export\\Detalle_Trx_Monetarias_{}.csv'.format(periodo),\n",
    "        DIR + r'\\Export\\Sum_Trx_Monetarias_{}.csv'.format(periodo))"
   ]
  },
  {
   "cell_type": "code",
   "execution_count": 27,
   "metadata": {},
   "outputs": [
    {
     "name": "stdout",
     "output_type": "stream",
     "text": [
      "c:\\Users\\e21719832\\Documents\\Python\\trayecto3\\Data\\Export\\Sum_Trx_NoMonetarias_202202.csv Filas: 3504627\n",
      "c:\\Users\\e21719832\\Documents\\Python\\trayecto3\\Data\\Export\\Sum_Trx_NoMonetarias_202203.csv Filas: 3714797\n",
      "c:\\Users\\e21719832\\Documents\\Python\\trayecto3\\Data\\Export\\Sum_Trx_NoMonetarias_202204.csv Filas: 3862163\n"
     ]
    }
   ],
   "source": [
    "# Procesar los 3 archivos de movimientos que tenemos disponibles de transacciones NO MONETARIAS\n",
    "for periodo in PERIODOS:\n",
    "    process_file_tx_sum(\n",
    "        DIR + r'\\Export\\Detalle_Trx_NoMonetarias_{}.csv'.format(periodo),\n",
    "        DIR + r'\\Export\\Sum_Trx_NoMonetarias_{}.csv'.format(periodo))"
   ]
  },
  {
   "cell_type": "markdown",
   "metadata": {},
   "source": [
    "## Depuración y generación del Turnero"
   ]
  },
  {
   "cell_type": "markdown",
   "metadata": {},
   "source": [
    "### Estructura del archivo"
   ]
  },
  {
   "cell_type": "markdown",
   "metadata": {},
   "source": [
    "|Campo    |Descripción   |\n",
    "|---    |---   |\n",
    "|Sucursal   |Nombre Sucursal **Excluir**   |\n",
    "|Proceso    |Proceso (Ej: Hablar con un asesor)   |\n",
    "|Tipo_atencion  |Tipo de Atención (PRESENCIAL/VIRTUAL)   |\n",
    "|Fecha_creada   |Fecha de creación (DD/MM/YYYY HH:MM:SS AM)  |\n",
    "|Fecha_turno    |Fecha del turno (DD/MM/YYYY)  |\n",
    "|Estado |Estado (VENCIDA/CANCELADA/FINALIZADA/PLANIFICADA)   |\n",
    "|Hora_desde |Hora desde (HH:MM)  |\n",
    "|Hora_hasta |Hora Hasta (HH:MM)  |\n",
    "|Tipo_Doc   |Tipo de documento (DNI/LE/CUIT/LC/nan/PASAPORTE)  |\n",
    "|Numero_doc |Número de documento   |\n",
    "|Apellido   |Apellido **Excluir**   |\n",
    "|Nombre |Nombre **Excluir**   |\n",
    "|Keepchar(Telefono,'0123456789')    |Teléfono **Excluir**   |\n",
    "|Email  |Correo electrénico **Excluir**   |"
   ]
  },
  {
   "cell_type": "markdown",
   "metadata": {},
   "source": [
    "### Proceso"
   ]
  },
  {
   "cell_type": "code",
   "execution_count": 101,
   "metadata": {},
   "outputs": [],
   "source": [
    "uc = [\n",
    "    'Proceso',\n",
    "    'Tipo_atencion',\n",
    "    'Fecha_creada',\n",
    "    'Fecha_turno',\n",
    "    'Estado',\n",
    "    'Hora_desde',\n",
    "    'Hora_hasta',\n",
    "    'Tipo_Doc',\n",
    "    'Numero_doc'\n",
    "]\n",
    "\n",
    "tc = dict(zip(uc, [str] * len(uc)))"
   ]
  },
  {
   "cell_type": "code",
   "execution_count": 102,
   "metadata": {},
   "outputs": [
    {
     "data": {
      "text/plain": [
       "(3123542, 9)"
      ]
     },
     "execution_count": 102,
     "metadata": {},
     "output_type": "execute_result"
    }
   ],
   "source": [
    "# Lectura de archivo\n",
    "file = DIR + r'\\Turnero\\748_20220531_1611_Turnero_F.TXT'\n",
    "df_tn = pd.read_csv(file,\n",
    "    delimiter=';',\n",
    "    dtype=tc,\n",
    "    parse_dates=['Fecha_creada', 'Fecha_turno'],\n",
    "    infer_datetime_format=True,\n",
    "    usecols=uc)\n",
    "df_tn.shape"
   ]
  },
  {
   "cell_type": "code",
   "execution_count": 107,
   "metadata": {},
   "outputs": [],
   "source": [
    "# Elimino los que no tienen documento\n",
    "df_tn = df_tn[~df_tn['Numero_doc'].isnull()]"
   ]
  },
  {
   "cell_type": "code",
   "execution_count": 140,
   "metadata": {},
   "outputs": [
    {
     "data": {
      "text/plain": [
       "array(['DNI', 'LE', 'LC'], dtype=object)"
      ]
     },
     "execution_count": 140,
     "metadata": {},
     "output_type": "execute_result"
    }
   ],
   "source": [
    "df_tn['Tipo_Doc'].unique()"
   ]
  },
  {
   "cell_type": "code",
   "execution_count": 141,
   "metadata": {},
   "outputs": [
    {
     "data": {
      "text/plain": [
       "array([8, 7, 6], dtype=int64)"
      ]
     },
     "execution_count": 141,
     "metadata": {},
     "output_type": "execute_result"
    }
   ],
   "source": [
    "df_tn['Numero_doc'].str.len().unique()"
   ]
  },
  {
   "cell_type": "code",
   "execution_count": 110,
   "metadata": {},
   "outputs": [],
   "source": [
    "# Elimina la documentos que seguro tienen basura -> Longitud <= 5\n",
    "df_tn = df_tn[df_tn['Numero_doc'].str.len()>5]"
   ]
  },
  {
   "cell_type": "code",
   "execution_count": 118,
   "metadata": {},
   "outputs": [],
   "source": [
    "# Elimino la documentos que tienen longitud 11 por que son casi todos CUITs de empresas\n",
    "df_tn = df_tn[df_tn['Numero_doc'].str.len()!=11]"
   ]
  },
  {
   "cell_type": "code",
   "execution_count": 125,
   "metadata": {},
   "outputs": [],
   "source": [
    "# Elimino todos los que tienen pasaporte porque seguro que nunca pudieron hacer el onboarding a BANCON\n",
    "df_tn = df_tn[df_tn['Tipo_Doc']!='PASAPORTE']"
   ]
  },
  {
   "cell_type": "code",
   "execution_count": 130,
   "metadata": {},
   "outputs": [],
   "source": [
    "# Me quedaron solo 7 registros con CUIT ni me preocupo por normalizarlos\n",
    "df_tn = df_tn[df_tn['Tipo_Doc']!='CUIT']"
   ]
  },
  {
   "cell_type": "code",
   "execution_count": 139,
   "metadata": {},
   "outputs": [],
   "source": [
    "# Elimino los documentos que tienen longitud 10 ya que son solo 3 registros y es un error de tipeo\n",
    "df_tn = df_tn[df_tn['Numero_doc'].str.len()!=10]\n",
    "# Elimino los documentos que tienen longitud 9 ya que son solo 10 registros y es un error de tipeo\n",
    "df_tn = df_tn[df_tn['Numero_doc'].str.len()!=9]"
   ]
  },
  {
   "cell_type": "code",
   "execution_count": 144,
   "metadata": {},
   "outputs": [],
   "source": [
    "# A lo que me quedó le pongo ceros a la izquierda\n",
    "df_tn['Numero_doc'] = df_tn['Numero_doc'].apply(lambda x: x.zfill(8))"
   ]
  },
  {
   "cell_type": "code",
   "execution_count": 145,
   "metadata": {},
   "outputs": [],
   "source": [
    "# Preparar la base de usuario convirtiendo CUIT/CUIL a DNI\n",
    "df_us_doc = df_us.copy(deep=False)\n",
    "df_us_doc['DOCUMENTO'] = df_us['DOCUMENTO'].str[2:10]"
   ]
  },
  {
   "cell_type": "code",
   "execution_count": 147,
   "metadata": {},
   "outputs": [],
   "source": [
    "# Cruzo la base de usuarios con la base del turnero\n",
    "df_tn = pd.merge(df_us_doc, df_tn, how='inner', left_on='DOCUMENTO', right_on='Numero_doc')\n",
    "df_tn.drop(['DOCUMENTO', 'Tipo_Doc', 'Numero_doc'], axis=1, inplace=True)"
   ]
  },
  {
   "cell_type": "code",
   "execution_count": 157,
   "metadata": {},
   "outputs": [],
   "source": [
    "# Grabo\n",
    "file = DIR + r'\\Export\\Turnero.csv'\n",
    "df_tn.to_csv(file, index=False)"
   ]
  }
 ],
 "metadata": {
  "kernelspec": {
   "display_name": "Python 3.10.4 64-bit",
   "language": "python",
   "name": "python3"
  },
  "language_info": {
   "codemirror_mode": {
    "name": "ipython",
    "version": 3
   },
   "file_extension": ".py",
   "mimetype": "text/x-python",
   "name": "python",
   "nbconvert_exporter": "python",
   "pygments_lexer": "ipython3",
   "version": "3.10.5"
  },
  "orig_nbformat": 4,
  "vscode": {
   "interpreter": {
    "hash": "9a5f32d0676542e4e2bf7db8487c84e3169d994048782af8503f70e03a7f1e48"
   }
  }
 },
 "nbformat": 4,
 "nbformat_minor": 2
}
