{
 "cells": [
  {
   "cell_type": "markdown",
   "metadata": {},
   "source": [
    "<img align=\"right\" width=\"250\" height=\"150\" src=\"https://lh3.googleusercontent.com/p/AF1QipPWZQfa087JiVjutpUTVEGRnh6W214Wjm439gKQ=w1080-h608-p-no-v0\">\n",
    "\n",
    "## **Proyecto:** Retención de usuarios de la Plataforma Digital\n",
    "\n",
    "#### El objetivo de este notebook es realizar el análisis EDA del archivo de `..\\Usuarios.parquet` con el objeto de ver que datos incorporar en el archivo de `..\\Crosseling_ampliado_YYYYMM.parquet`."
   ]
  },
  {
   "cell_type": "code",
   "execution_count": null,
   "metadata": {},
   "outputs": [],
   "source": [
    "import pandas as pd\n",
    "import pandas_profiling\n",
    "import os\n",
    "\n",
    "try:\n",
    "    # Monto la unidad de drive porque los archivos son muy grandes\n",
    "    from google.colab import drive\n",
    "    drive.mount('/content/drive')\n",
    "    DIR = '/content/drive/MyDrive/Trayecto3-DataDriven/Data/'\n",
    "    # En GOOGLE COLAB hace falta instalar la última versión de pandas profiling\n",
    "    ! pip install --use-feature=2020-resolver https://github.com/pandas-profiling/pandas-profiling/archive/master.zip\n",
    "except:\n",
    "    # Sino lo consigo asumo que estoy trabajando local\n",
    "    DIR = os.path.abspath(r'..\\Data\\Export') + '\\\\'"
   ]
  },
  {
   "cell_type": "code",
   "execution_count": null,
   "metadata": {},
   "outputs": [],
   "source": [
    "uc = [\n",
    "    'FechaCreacion',\n",
    "    'LAST_LOGIN',\n",
    "    'SegFactor',\n",
    "    'FIRST_2_DIGITS_DNI'\n",
    " ]"
   ]
  },
  {
   "cell_type": "code",
   "execution_count": null,
   "metadata": {},
   "outputs": [],
   "source": [
    "file = DIR + 'Usuarios.parquet'\n",
    "df = pd.read_parquet(file, columns=uc)"
   ]
  },
  {
   "cell_type": "code",
   "execution_count": null,
   "metadata": {},
   "outputs": [],
   "source": [
    "df.info()"
   ]
  },
  {
   "cell_type": "code",
   "execution_count": null,
   "metadata": {},
   "outputs": [],
   "source": [
    "# Analizamos\n",
    "df.reset_index(drop=True, inplace=True)\n",
    "report = pandas_profiling.ProfileReport(df)\n",
    "report"
   ]
  }
 ],
 "metadata": {
  "kernelspec": {
   "display_name": "Python 3.10.5 64-bit",
   "language": "python",
   "name": "python3"
  },
  "language_info": {
   "codemirror_mode": {
    "name": "ipython",
    "version": 3
   },
   "file_extension": ".py",
   "mimetype": "text/x-python",
   "name": "python",
   "nbconvert_exporter": "python",
   "pygments_lexer": "ipython3",
   "version": "3.10.5"
  },
  "orig_nbformat": 4,
  "vscode": {
   "interpreter": {
    "hash": "9a5f32d0676542e4e2bf7db8487c84e3169d994048782af8503f70e03a7f1e48"
   }
  }
 },
 "nbformat": 4,
 "nbformat_minor": 2
}
