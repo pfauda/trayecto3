{
 "cells": [
  {
   "cell_type": "markdown",
   "metadata": {},
   "source": [
    "<img align=\"right\" width=\"250\" height=\"150\" src=\"https://lh3.googleusercontent.com/p/AF1QipPWZQfa087JiVjutpUTVEGRnh6W214Wjm439gKQ=w1080-h608-p-no-v0\">\n",
    "\n",
    "## **Proyecto:** Retención de usuarios de la Plataforma Digital\n",
    "\n",
    "#### El objetivo de este notebook es realizar el análisis EDA del archivo de `..\\Detalle_Trx_Monetarias_YYYYMM.csv` con el objeto de ver que datos incorporar en el archivo de `..\\Crosseling_ampliado_YYYYMM.parquet`."
   ]
  },
  {
   "cell_type": "code",
   "execution_count": null,
   "metadata": {},
   "outputs": [],
   "source": [
    "import pandas as pd\n",
    "import pandas_profiling\n",
    "import os\n",
    "\n",
    "DIR = os.path.abspath(r'..\\Data\\Export') + '\\\\'"
   ]
  },
  {
   "cell_type": "code",
   "execution_count": null,
   "metadata": {},
   "outputs": [],
   "source": [
    "uc = [\n",
    "    'TIPO_CANAL',\n",
    "    'CANAL',\n",
    "    'GRUPO_OPERACION',\n",
    "    'TIPO_OPERACION',\n",
    "    'TIPO_OPERACION2',\n",
    "    'IMPORTE',\n",
    "    'ORIGEN',\n",
    "    'CANAL_RATIO',\n",
    "    'CLASIF_TRX'\n",
    "]\n",
    "\n",
    "tc = dict(zip(uc, [str] * len(uc)))\n",
    "tc.update({'IMPORTE': float})"
   ]
  },
  {
   "cell_type": "code",
   "execution_count": null,
   "metadata": {},
   "outputs": [],
   "source": [
    "file = DIR + 'Detalle_Trx_Monetarias_202204.csv'\n",
    "df = pd.read_csv(file, index_col=False, usecols=uc, dtype=tc).sample(200_000) #Tomo una muestra sino pandas_profiling explota"
   ]
  },
  {
   "cell_type": "code",
   "execution_count": null,
   "metadata": {},
   "outputs": [],
   "source": [
    "df.info()"
   ]
  },
  {
   "cell_type": "code",
   "execution_count": null,
   "metadata": {},
   "outputs": [],
   "source": [
    "# Analizamos\n",
    "df.reset_index(drop=True, inplace=True)\n",
    "report = pandas_profiling.ProfileReport(df)\n",
    "report"
   ]
  },
  {
   "cell_type": "markdown",
   "metadata": {},
   "source": [
    "#### Variables categóricas con menor grado de correlación *CANAL_RATIO* y *GRUPO_OPERACION*"
   ]
  },
  {
   "cell_type": "code",
   "execution_count": null,
   "metadata": {},
   "outputs": [],
   "source": [
    "# Remuevo los outliers del 1er y 3er quantil de Importe a ver que pasa\n",
    "Q1 = df['IMPORTE'].quantile(0.25)\n",
    "Q3 = df['IMPORTE'].quantile(0.75)\n",
    "IQR = Q3 - Q1\n",
    "print(Q1, Q3, IQR)\n",
    "\n",
    "df = df[~((df['IMPORTE'] < (Q1 - 1.5 * IQR)) | (df['IMPORTE'] > (Q3 + 1.5 * IQR)))]\n",
    "df.shape"
   ]
  },
  {
   "cell_type": "code",
   "execution_count": null,
   "metadata": {},
   "outputs": [],
   "source": [
    "df.sample(20)"
   ]
  },
  {
   "cell_type": "code",
   "execution_count": null,
   "metadata": {},
   "outputs": [],
   "source": [
    "# Analizamos\n",
    "df.reset_index(drop=True, inplace=True)\n",
    "report = pandas_profiling.ProfileReport(df)\n",
    "report"
   ]
  },
  {
   "cell_type": "code",
   "execution_count": null,
   "metadata": {},
   "outputs": [],
   "source": [
    "# Averiguo la conbinaciones de valores del primer par de variables menos correlacionadas\n",
    "df.groupby(['CANAL_RATIO', 'GRUPO_OPERACION']).size().reset_index(name='Freq')"
   ]
  },
  {
   "cell_type": "code",
   "execution_count": null,
   "metadata": {},
   "outputs": [],
   "source": [
    "# Averiguo la conbinaciones de valores del segundo par de variables menos correlacionadas\n",
    "df.groupby(['CANAL_RATIO', 'GRUPO_OPERACION', 'TIPO_OPERACION']).size().reset_index(name='Freq')"
   ]
  },
  {
   "cell_type": "code",
   "execution_count": null,
   "metadata": {},
   "outputs": [],
   "source": [
    "# Averiguo como un cliente puede depositar por canal digital\n",
    "df[((df['CANAL_RATIO']=='DIGITAL') & (df['TIPO_OPERACION']=='DEPOSITOS'))]"
   ]
  },
  {
   "cell_type": "code",
   "execution_count": null,
   "metadata": {},
   "outputs": [],
   "source": [
    "# Averiguo como un cliente puede depositar por canal digital\n",
    "df[((df['CANAL_RATIO']=='RESTO') & (df['TIPO_OPERACION']=='MONET BO'))]"
   ]
  }
 ],
 "metadata": {
  "kernelspec": {
   "display_name": "Python 3.10.5 64-bit",
   "language": "python",
   "name": "python3"
  },
  "language_info": {
   "codemirror_mode": {
    "name": "ipython",
    "version": 3
   },
   "file_extension": ".py",
   "mimetype": "text/x-python",
   "name": "python",
   "nbconvert_exporter": "python",
   "pygments_lexer": "ipython3",
   "version": "3.10.5"
  },
  "orig_nbformat": 4,
  "vscode": {
   "interpreter": {
    "hash": "9a5f32d0676542e4e2bf7db8487c84e3169d994048782af8503f70e03a7f1e48"
   }
  }
 },
 "nbformat": 4,
 "nbformat_minor": 2
}
