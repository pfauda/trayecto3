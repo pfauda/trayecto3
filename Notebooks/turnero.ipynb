{
 "cells": [
  {
   "cell_type": "markdown",
   "metadata": {},
   "source": [
    "Importar librerias"
   ]
  },
  {
   "cell_type": "code",
   "execution_count": null,
   "metadata": {},
   "outputs": [],
   "source": [
    "import pandas as pd\n",
    "from datetime import datetime"
   ]
  },
  {
   "cell_type": "code",
   "execution_count": null,
   "metadata": {},
   "outputs": [],
   "source": [
    "df = pd.read_table(\"748_20220531_1211_Turnero_F.txt\", \n",
    "    delimiter=\";\", encoding = \"ISO-8859-1\",\n",
    "    usecols=['Sucursal', 'Proceso', 'Tipo_atencion', 'Fecha_creada', 'Fecha_turno','Estado', 'Hora_desde', 'Hora_hasta', 'Tipo_Doc', 'Numero_doc'],\n",
    "    dtype={'Sucursal':str, 'Proceso':str, 'Tipo_atencion':str, 'Fecha_creada':object, 'Fecha_turno':object, 'Estado':str, 'Hora_desde':object, 'Hora_hasta':object, 'Tipo_Doc':str, 'Numero_doc':str})"
   ]
  },
  {
   "cell_type": "code",
   "execution_count": null,
   "metadata": {},
   "outputs": [],
   "source": [
    "df['Fecha_creada'] = pd.to_datetime(df['Fecha_creada'], format='%d/%m/%Y %H:%M:%S %p')\n",
    "df['Fecha_turno'] = pd.to_datetime(df['Fecha_turno'], format='%d/%m/%Y')\n",
    "df['Duracion_turno'] = (pd.to_datetime(df['Hora_hasta'], format='%H:%M') - pd.to_datetime(df['Hora_desde'], format='%H:%M')).astype('timedelta64[m]')"
   ]
  },
  {
   "cell_type": "code",
   "execution_count": null,
   "metadata": {},
   "outputs": [],
   "source": [
    "df.drop('Hora_hasta', axis=1, inplace=True)"
   ]
  },
  {
   "cell_type": "code",
   "execution_count": null,
   "metadata": {},
   "outputs": [],
   "source": [
    "#df.set_index(\"Fecha_creada\", inplace=True)\n",
    "#df.sort_index().loc[\"2022-01-01\":]"
   ]
  },
  {
   "cell_type": "code",
   "execution_count": null,
   "metadata": {},
   "outputs": [],
   "source": [
    "#nulls = df.set_index('Fecha_turno').groupby('Estado').resample('M').count().reset_index(name=\"count\")\n",
    "#nulls = df.set_index('Fecha_turno').groupby('Estado').resample('M').size().reset_index(name='Counts')\n",
    "#nulls = df.groupby(['Fecha_turno', 'Estado']).size().reset_index(name='Counts')\n",
    "#nulls = df.set_index('Fecha_turno').resample('M').size().reset_index(name='Counts')\n",
    "nulls = df.groupby([pd.PeriodIndex(df['Fecha_turno'], freq='M'), 'Estado']).size().reset_index(name='Counts')\n"
   ]
  },
  {
   "cell_type": "code",
   "execution_count": null,
   "metadata": {},
   "outputs": [],
   "source": [
    "nulls"
   ]
  },
  {
   "cell_type": "code",
   "execution_count": null,
   "metadata": {},
   "outputs": [],
   "source": [
    "# compute null percentage per (id, hour)\n",
    "nulls = (df.set_index('Fecha_creada').groupby(['Estado', pd.Grouper(freq='M')])['Duracion_turno'].apply(lambda x: x.isnull().mean() * 100))"
   ]
  },
  {
   "cell_type": "code",
   "execution_count": null,
   "metadata": {},
   "outputs": [],
   "source": [
    "nulls"
   ]
  },
  {
   "cell_type": "code",
   "execution_count": null,
   "metadata": {},
   "outputs": [],
   "source": [
    "# pivot into id vs time matrix\n",
    "#(nulls.pivot(index='Fecha_turno', columns='Estado', values='Count'))\n",
    "matrix = pd.pivot_table(nulls, values='Counts', index='Estado', columns='Fecha_turno', aggfunc='count')"
   ]
  },
  {
   "cell_type": "code",
   "execution_count": null,
   "metadata": {},
   "outputs": [],
   "source": [
    "import seaborn as sns"
   ]
  },
  {
   "cell_type": "code",
   "execution_count": null,
   "metadata": {},
   "outputs": [],
   "source": [
    "matrix"
   ]
  },
  {
   "cell_type": "code",
   "execution_count": null,
   "metadata": {},
   "outputs": [],
   "source": [
    "# plot time series heatmap\n",
    "sns.heatmap(matrix, square=True, cmap='magma_r', cbar_kws={'label': 'null (%)'},\n",
    "            linewidth=1, linecolor='lightgray', clip_on=False, xticklabels=matrix.columns)"
   ]
  },
  {
   "cell_type": "code",
   "execution_count": null,
   "metadata": {},
   "outputs": [],
   "source": [
    "# convert to proper dtypes\n",
    "df['time'] = pd.to_datetime(df['time'])\n",
    "df['fuel'] = pd.to_numeric(df['fuel'], errors='coerce')\n",
    "\n",
    "# compute null percentage per (id, hour)\n",
    "nulls = (df.set_index('time')\n",
    "           .groupby(['id', pd.Grouper(freq='H')])['fuel']\n",
    "           .apply(lambda x: x.isnull().mean() * 100))\n",
    "\n",
    "# pivot into id vs time matrix\n",
    "matrix = (nulls.reset_index(name='null (%)')\n",
    "               .pivot(index='id', columns='time', values='null (%)'))\n",
    "\n",
    "# plot time series heatmap\n",
    "sns.heatmap(matrix, square=True, vmin=0, vmax=100, cmap='magma_r', cbar_kws={'label': 'null (%)'},\n",
    "            linewidth=1, linecolor='lightgray', clip_on=False,\n",
    "            xticklabels=matrix.columns.strftime('%b %d, %Y\\n%H:%M:%S'))"
   ]
  },
  {
   "cell_type": "code",
   "execution_count": null,
   "metadata": {},
   "outputs": [],
   "source": []
  }
 ],
 "metadata": {
  "interpreter": {
   "hash": "9a5f32d0676542e4e2bf7db8487c84e3169d994048782af8503f70e03a7f1e48"
  },
  "kernelspec": {
   "display_name": "Python 3.10.4 64-bit",
   "language": "python",
   "name": "python3"
  },
  "language_info": {
   "codemirror_mode": {
    "name": "ipython",
    "version": 3
   },
   "file_extension": ".py",
   "mimetype": "text/x-python",
   "name": "python",
   "nbconvert_exporter": "python",
   "pygments_lexer": "ipython3",
   "version": "3.10.4"
  },
  "orig_nbformat": 4
 },
 "nbformat": 4,
 "nbformat_minor": 2
}
